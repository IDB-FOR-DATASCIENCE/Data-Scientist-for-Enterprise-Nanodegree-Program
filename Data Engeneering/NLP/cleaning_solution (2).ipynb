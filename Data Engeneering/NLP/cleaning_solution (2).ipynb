{
 "cells": [
  {
   "cell_type": "markdown",
   "metadata": {
    "colab_type": "text",
    "id": "8WE-5f42Lo19"
   },
   "source": [
    "# Cleaning Quiz: Udacity's Course Catalog\n",
    "It's your turn! Udacity's [course catalog page](https://www.udacity.com/courses/all) has changed since the last video was filmed. One notable change is the introduction of  _schools_.\n",
    "\n",
    "In this activity, you're going to perform similar actions with BeautifulSoup to extract the following information from each course listing on the page:\n",
    "1. The course name - e.g. \"Data Analyst\"\n",
    "2. The school the course belongs to - e.g. \"School of Data Science\""
   ]
  },
  {
   "cell_type": "markdown",
   "metadata": {
    "colab_type": "text",
    "id": "qgeSC9gZLo1-"
   },
   "source": [
    "### Step 1: Get text from Udacity's course catalog web page\n",
    "You can use the `requests` library to do this.\n",
    "\n",
    "Outputting all the javascript, CSS, and text may overload the space available to load this notebook, so we omit a print statement here."
   ]
  },
  {
   "cell_type": "code",
   "execution_count": 0,
   "metadata": {
    "colab": {},
    "colab_type": "code",
    "id": "Xn7UWaD2Lo1_"
   },
   "outputs": [],
   "source": [
    "# import statements\n",
    "import requests\n",
    "from bs4 import BeautifulSoup"
   ]
  },
  {
   "cell_type": "code",
   "execution_count": 0,
   "metadata": {
    "colab": {},
    "colab_type": "code",
    "id": "0SfMtibnLo2B"
   },
   "outputs": [],
   "source": [
    "# fetch web page\n",
    "r = requests.get(\"https://www.udacity.com/courses/all\")"
   ]
  },
  {
   "cell_type": "markdown",
   "metadata": {
    "colab_type": "text",
    "id": "iiGyHhQvLo2K"
   },
   "source": [
    "### Step 2: Use BeautifulSoup to remove HTML tags\n",
    "Use `\"lxml\"` rather than `\"html5lib\"`.\n",
    "\n",
    "Again, outputting all the results may overload the space available to load this notebook, so we omit a print statement here."
   ]
  },
  {
   "cell_type": "code",
   "execution_count": 0,
   "metadata": {
    "colab": {},
    "colab_type": "code",
    "id": "lvnUjtlRLo2L"
   },
   "outputs": [],
   "source": [
    "soup = BeautifulSoup(r.text, \"lxml\")"
   ]
  },
  {
   "cell_type": "markdown",
   "metadata": {
    "colab_type": "text",
    "id": "OtuBtrdgLo2P"
   },
   "source": [
    "### Step 3: Find all course summaries\n",
    "Use the BeautifulSoup's `find_all` method to select based on tag type and class name. Just ike in the video, you can right click on the item, and click \"Inspect\" to view its html on a web page."
   ]
  },
  {
   "cell_type": "code",
   "execution_count": 4,
   "metadata": {
    "colab": {
     "base_uri": "https://localhost:8080/",
     "height": 34
    },
    "colab_type": "code",
    "id": "OuXx9mZyLo2Q",
    "outputId": "69aa7852-8fcc-49d6-c52d-6c77d89f0487"
   },
   "outputs": [
    {
     "name": "stdout",
     "output_type": "stream",
     "text": [
      "Number of Courses: 233\n"
     ]
    }
   ],
   "source": [
    "# Find all course summaries\n",
    "summaries = soup.find_all(\"div\", {\"class\":\"course-summary-card\"})\n",
    "print('Number of Courses:', len(summaries))"
   ]
  },
  {
   "cell_type": "markdown",
   "metadata": {
    "colab_type": "text",
    "id": "Rcit8773Lo2S"
   },
   "source": [
    "### Step 4: Inspect the first summary to find selectors for the course name and school\n",
    "Tip: `.prettify()` is a super helpful method BeautifulSoup provides to output html in a nicely indented form! Make sure to use `print()` to ensure whitespace is displayed properly."
   ]
  },
  {
   "cell_type": "code",
   "execution_count": 5,
   "metadata": {
    "colab": {
     "base_uri": "https://localhost:8080/",
     "height": 1000
    },
    "colab_type": "code",
    "id": "mfD_R8RZLo2T",
    "outputId": "8cdcaf8c-2891-473e-e21b-d9d16bddd1f4"
   },
   "outputs": [
    {
     "name": "stdout",
     "output_type": "stream",
     "text": [
      "<div _ngcontent-sc219=\"\" class=\"course-summary-card row row-gap-medium catalog-card nanodegree-card ng-star-inserted\">\n",
      " <ir-catalog-card _ngcontent-sc219=\"\" _nghost-sc222=\"\">\n",
      "  <div _ngcontent-sc222=\"\" class=\"card-wrapper is-collapsed\">\n",
      "   <div _ngcontent-sc222=\"\" class=\"card__inner card mb-0\">\n",
      "    <div _ngcontent-sc222=\"\" class=\"card__inner--upper\">\n",
      "     <div _ngcontent-sc222=\"\" class=\"image_wrapper hidden-md-down\">\n",
      "      <a _ngcontent-sc222=\"\" href=\"/course/ux-designer-nanodegree--nd578\">\n",
      "       <!-- -->\n",
      "       <div _ngcontent-sc222=\"\" class=\"image-container ng-star-inserted\" style=\"background-image:url(https://d20vrrgs8k4bvw.cloudfront.net/images/degrees/nd578/catalog-card.jpg);\">\n",
      "        <div _ngcontent-sc222=\"\" class=\"image-overlay\">\n",
      "        </div>\n",
      "       </div>\n",
      "      </a>\n",
      "      <!-- -->\n",
      "     </div>\n",
      "     <div _ngcontent-sc222=\"\" class=\"card-content\">\n",
      "      <!-- -->\n",
      "      <span _ngcontent-sc222=\"\" class=\"tag tag--new card ng-star-inserted\">\n",
      "       New\n",
      "      </span>\n",
      "      <!-- -->\n",
      "      <div _ngcontent-sc222=\"\" class=\"category-wrapper\">\n",
      "       <span _ngcontent-sc222=\"\" class=\"mobile-icon\">\n",
      "       </span>\n",
      "       <!-- -->\n",
      "       <h4 _ngcontent-sc222=\"\" class=\"category ng-star-inserted\">\n",
      "        School of Business\n",
      "       </h4>\n",
      "      </div>\n",
      "      <h3 _ngcontent-sc222=\"\" class=\"card-heading\">\n",
      "       <a _ngcontent-sc222=\"\" class=\"capitalize\" href=\"/course/ux-designer-nanodegree--nd578\">\n",
      "        UX Designer\n",
      "       </a>\n",
      "      </h3>\n",
      "      <div _ngcontent-sc222=\"\" class=\"right-sub\">\n",
      "       <!-- -->\n",
      "       <div _ngcontent-sc222=\"\" class=\"skills ng-star-inserted\">\n",
      "        <h4 _ngcontent-sc222=\"\">\n",
      "         Skills Covered\n",
      "        </h4>\n",
      "        <span _ngcontent-sc222=\"\" class=\"truncate-content\">\n",
      "         <!-- -->\n",
      "         <span _ngcontent-sc222=\"\" class=\"ng-star-inserted\">\n",
      "          User Research,\n",
      "         </span>\n",
      "         <span _ngcontent-sc222=\"\" class=\"ng-star-inserted\">\n",
      "          User Experience,\n",
      "         </span>\n",
      "         <span _ngcontent-sc222=\"\" class=\"ng-star-inserted\">\n",
      "          Prototyping,\n",
      "         </span>\n",
      "         <span _ngcontent-sc222=\"\" class=\"ng-star-inserted\">\n",
      "          Interactive Design,\n",
      "         </span>\n",
      "         <span _ngcontent-sc222=\"\" class=\"ng-star-inserted\">\n",
      "          User Interface Design,\n",
      "         </span>\n",
      "         <span _ngcontent-sc222=\"\" class=\"ng-star-inserted\">\n",
      "          Usability Testing\n",
      "         </span>\n",
      "        </span>\n",
      "       </div>\n",
      "       <!-- -->\n",
      "       <div _ngcontent-sc222=\"\" class=\"hidden-md-up level\">\n",
      "        <span _ngcontent-sc222=\"\" class=\"course-level course-level-beginner\" classname=\"course-level course-level-beginner\">\n",
      "        </span>\n",
      "        <span _ngcontent-sc222=\"\" class=\"capitalize\">\n",
      "         beginner\n",
      "        </span>\n",
      "       </div>\n",
      "      </div>\n",
      "     </div>\n",
      "    </div>\n",
      "    <div _ngcontent-sc222=\"\" class=\"card__inner--lower hidden-sm-down\">\n",
      "     <div _ngcontent-sc222=\"\" class=\"left uppercase blue expander pointer\">\n",
      "      <!-- -->\n",
      "      <span _ngcontent-sc222=\"\" class=\"ng-star-inserted\">\n",
      "       Nanodegree Details\n",
      "      </span>\n",
      "      <!-- -->\n",
      "     </div>\n",
      "     <div _ngcontent-sc222=\"\" class=\"right\">\n",
      "      <!-- -->\n",
      "      <span _ngcontent-sc222=\"\" class=\"caption text-right level ng-star-inserted\">\n",
      "       <span _ngcontent-sc222=\"\" class=\"course-level course-level-beginner\" classname=\"course-level course-level-beginner\">\n",
      "       </span>\n",
      "       <span _ngcontent-sc222=\"\" class=\"capitalize\">\n",
      "        beginner\n",
      "       </span>\n",
      "      </span>\n",
      "     </div>\n",
      "    </div>\n",
      "   </div>\n",
      "   <div _ngcontent-sc222=\"\" class=\"card__expander\">\n",
      "    <div _ngcontent-sc222=\"\" class=\"card__expander--summary mb-1\">\n",
      "     <!-- -->\n",
      "     <span _ngcontent-sc222=\"\" class=\"ng-star-inserted\">\n",
      "      Design impactful user experiences for products in today’s digital world.\n",
      "     </span>\n",
      "    </div>\n",
      "    <hr _ngcontent-sc222=\"\"/>\n",
      "    <div _ngcontent-sc222=\"\" class=\"card__expander--details\">\n",
      "     <div _ngcontent-sc222=\"\" class=\"rating\">\n",
      "      <!-- -->\n",
      "     </div>\n",
      "     <a _ngcontent-sc222=\"\" class=\"button--primary btn\" href=\"/course/ux-designer-nanodegree--nd578\">\n",
      "      Learn More\n",
      "     </a>\n",
      "    </div>\n",
      "   </div>\n",
      "  </div>\n",
      " </ir-catalog-card>\n",
      " <!-- -->\n",
      "</div>\n",
      "\n"
     ]
    }
   ],
   "source": [
    "# print the first summary in summaries\n",
    "print(summaries[0].prettify())"
   ]
  },
  {
   "cell_type": "markdown",
   "metadata": {
    "colab_type": "text",
    "id": "ccbqbVQ9Lo2V"
   },
   "source": [
    "Look for selectors contain the the courses title and school name text you want to extract. Then, use the `select_one` method on the summary object to pull out the html with those selectors. Afterwards, don't forget to do some extra cleaning to isolate the names (get rid of unnecessary html), as you saw in the last video."
   ]
  },
  {
   "cell_type": "code",
   "execution_count": 6,
   "metadata": {
    "colab": {
     "base_uri": "https://localhost:8080/",
     "height": 34
    },
    "colab_type": "code",
    "id": "NNMPAGvDLo2V",
    "outputId": "46030654-359b-4b1b-e2ee-098c6a9e4b26"
   },
   "outputs": [
    {
     "data": {
      "text/plain": [
       "'UX Designer'"
      ]
     },
     "execution_count": 6,
     "metadata": {
      "tags": []
     },
     "output_type": "execute_result"
    }
   ],
   "source": [
    "# Extract course title\n",
    "summaries[0].select_one(\"h3\").get_text().strip()"
   ]
  },
  {
   "cell_type": "code",
   "execution_count": 7,
   "metadata": {
    "colab": {
     "base_uri": "https://localhost:8080/",
     "height": 34
    },
    "colab_type": "code",
    "id": "IOF-lvb3Lo2X",
    "outputId": "16c5bcca-9ebe-417f-b903-a23ed27338bf"
   },
   "outputs": [
    {
     "data": {
      "text/plain": [
       "'School of Business'"
      ]
     },
     "execution_count": 7,
     "metadata": {
      "tags": []
     },
     "output_type": "execute_result"
    }
   ],
   "source": [
    "# Extract school\n",
    "summaries[0].select_one(\"h4\").get_text().strip()"
   ]
  },
  {
   "cell_type": "markdown",
   "metadata": {
    "colab_type": "text",
    "id": "ZPVKnBJrLo2Z"
   },
   "source": [
    "### Step 5: Collect names and schools of ALL course listings\n",
    "Reuse your code from the previous step, but now in a loop to extract the name and school from every course summary in `summaries`!"
   ]
  },
  {
   "cell_type": "code",
   "execution_count": 0,
   "metadata": {
    "colab": {},
    "colab_type": "code",
    "id": "pb1YJiHYLo2a"
   },
   "outputs": [],
   "source": [
    "courses = []\n",
    "for summary in summaries:\n",
    "    # append name and school of each summary to courses list\n",
    "    title = summary.select_one(\"h3\").get_text().strip()\n",
    "    school = summary.select_one(\"h4\").get_text().strip()\n",
    "    courses.append((title, school))"
   ]
  },
  {
   "cell_type": "code",
   "execution_count": 9,
   "metadata": {
    "colab": {
     "base_uri": "https://localhost:8080/",
     "height": 370
    },
    "colab_type": "code",
    "id": "bkGCPyxILo2c",
    "outputId": "dc8931f5-3633-4d54-c11f-9511e396d8d8"
   },
   "outputs": [
    {
     "name": "stdout",
     "output_type": "stream",
     "text": [
      "233 course summaries found. Sample:\n"
     ]
    },
    {
     "data": {
      "text/plain": [
       "[('UX Designer', 'School of Business'),\n",
       " ('Data Streaming', 'School of Data Science'),\n",
       " ('Front End Web Developer', 'School of Programming'),\n",
       " ('Full Stack Web Developer', 'School of Programming'),\n",
       " ('Java Developer', 'School of Programming'),\n",
       " ('AI Product Manager', 'School of Artificial Intelligence'),\n",
       " ('Sensor Fusion Engineer', 'School of Autonomous Systems'),\n",
       " ('Data Visualization', 'School of Data Science'),\n",
       " ('Cloud Developer', 'School of Cloud Computing'),\n",
       " ('Cloud DevOps Engineer', 'School of Cloud Computing'),\n",
       " ('Intro to Machine Learning', 'School of Artificial Intelligence'),\n",
       " ('C++', 'School of Autonomous Systems'),\n",
       " ('Data Structures and Algorithms', 'School of Programming'),\n",
       " ('Programming for Data Science with R', 'School of Data Science'),\n",
       " ('Data Engineer', 'School of Data Science'),\n",
       " ('Marketing Analytics', 'School of Business'),\n",
       " ('Introduction to Programming', 'School of Programming'),\n",
       " ('Data Analyst', 'School of Data Science'),\n",
       " ('iOS Developer', 'School of Programming'),\n",
       " ('Predictive Analytics for Business', 'School of Business')]"
      ]
     },
     "execution_count": 9,
     "metadata": {
      "tags": []
     },
     "output_type": "execute_result"
    }
   ],
   "source": [
    "# display results\n",
    "print(len(courses), \"course summaries found. Sample:\")\n",
    "courses[:20]"
   ]
  },
  {
   "cell_type": "code",
   "execution_count": 0,
   "metadata": {
    "colab": {},
    "colab_type": "code",
    "id": "BpcVoJ1-Lo2e"
   },
   "outputs": [],
   "source": []
  }
 ],
 "metadata": {
  "colab": {
   "name": "cleaning_solution (1).ipynb",
   "provenance": []
  },
  "kernelspec": {
   "display_name": "Python 3",
   "language": "python",
   "name": "python3"
  },
  "language_info": {
   "codemirror_mode": {
    "name": "ipython",
    "version": 3
   },
   "file_extension": ".py",
   "mimetype": "text/x-python",
   "name": "python",
   "nbconvert_exporter": "python",
   "pygments_lexer": "ipython3",
   "version": "3.6.3"
  }
 },
 "nbformat": 4,
 "nbformat_minor": 1
}

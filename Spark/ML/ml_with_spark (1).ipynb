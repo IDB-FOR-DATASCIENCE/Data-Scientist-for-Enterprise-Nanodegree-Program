{
 "cells": [
  {
   "cell_type": "code",
   "execution_count": 92,
   "metadata": {},
   "outputs": [],
   "source": [
    "from pyspark.sql import SparkSession\n",
    "from pyspark.sql.functions import avg, col, concat,count, desc, explode, lit, min, max, split, stddev, udf\n",
    "from pyspark.sql.types import IntegerType\n",
    "\n",
    "from pyspark.ml import Pipeline\n",
    "from pyspark.ml.classification import LogisticRegression\n",
    "from pyspark.ml.evaluation import MulticlassClassificationEvaluator\n",
    "from pyspark.ml.feature import CountVectorizer, IDF, Normalizer, PCA, RegexTokenizer, StandardScaler, StopWordsRemover, StringIndexer, VectorAssembler\n",
    "from pyspark.ml.regression import LinearRegression\n",
    "from pyspark.ml.tuning import CrossValidator, ParamGridBuilder\n",
    "\n",
    "import re"
   ]
  },
  {
   "cell_type": "code",
   "execution_count": 2,
   "metadata": {},
   "outputs": [],
   "source": [
    "stack_overflow_data = \"s3n://juditl/Train_onetag_small.json\""
   ]
  },
  {
   "cell_type": "code",
   "execution_count": 3,
   "metadata": {},
   "outputs": [
    {
     "data": {
      "text/plain": [
       "DataFrame[Body: string, Id: bigint, Tags: string, Title: string, oneTag: string]"
      ]
     },
     "execution_count": 3,
     "metadata": {},
     "output_type": "execute_result"
    }
   ],
   "source": [
    "df = spark.read.json(stack_overflow_data)\n",
    "df.persist()"
   ]
  },
  {
   "cell_type": "code",
   "execution_count": 4,
   "metadata": {},
   "outputs": [
    {
     "data": {
      "text/plain": [
       "Row(Body=u\"<p>I'd like to check if an uploaded file is an image file (e.g png, jpg, jpeg, gif, bmp) or another file. The problem is that I'm using Uploadify to upload the files, which changes the mime type and gives a 'text/octal' or something as the mime type, no matter which file type you upload.</p>\\n\\n<p>Is there a way to check if the uploaded file is an image apart from checking the file extension using PHP?</p>\\n\", Id=1, Tags=u'php image-processing file-upload upload mime-types', Title=u'How to check if an uploaded file is an image without mime type?', oneTag=u'php')"
      ]
     },
     "execution_count": 4,
     "metadata": {},
     "output_type": "execute_result"
    }
   ],
   "source": [
    "df.head()"
   ]
  },
  {
   "cell_type": "code",
   "execution_count": 5,
   "metadata": {},
   "outputs": [
    {
     "data": {
      "text/plain": [
       "Row(Body=u\"<p>I'd like to check if an uploaded file is an image file (e.g png, jpg, jpeg, gif, bmp) or another file. The problem is that I'm using Uploadify to upload the files, which changes the mime type and gives a 'text/octal' or something as the mime type, no matter which file type you upload.</p>\\n\\n<p>Is there a way to check if the uploaded file is an image apart from checking the file extension using PHP?</p>\\n\", Id=1, Tags=u'php image-processing file-upload upload mime-types', Title=u'How to check if an uploaded file is an image without mime type?', oneTag=u'php', words=[u'p', u'i', u'd', u'like', u'to', u'check', u'if', u'an', u'uploaded', u'file', u'is', u'an', u'image', u'file', u'e', u'g', u'png', u'jpg', u'jpeg', u'gif', u'bmp', u'or', u'another', u'file', u'the', u'problem', u'is', u'that', u'i', u'm', u'using', u'uploadify', u'to', u'upload', u'the', u'files', u'which', u'changes', u'the', u'mime', u'type', u'and', u'gives', u'a', u'text', u'octal', u'or', u'something', u'as', u'the', u'mime', u'type', u'no', u'matter', u'which', u'file', u'type', u'you', u'upload', u'p', u'p', u'is', u'there', u'a', u'way', u'to', u'check', u'if', u'the', u'uploaded', u'file', u'is', u'an', u'image', u'apart', u'from', u'checking', u'the', u'file', u'extension', u'using', u'php', u'p'])"
      ]
     },
     "execution_count": 5,
     "metadata": {},
     "output_type": "execute_result"
    }
   ],
   "source": [
    "regexTokenizer = RegexTokenizer(inputCol=\"Body\", outputCol=\"words\", pattern=\"\\\\W\")\n",
    "df = regexTokenizer.transform(df)\n",
    "df.head()"
   ]
  },
  {
   "cell_type": "code",
   "execution_count": 6,
   "metadata": {},
   "outputs": [],
   "source": [
    "body_length = udf(lambda x: len(x), IntegerType())\n",
    "df = df.withColumn(\"BodyLength\", body_length(df.words))"
   ]
  },
  {
   "cell_type": "code",
   "execution_count": 7,
   "metadata": {},
   "outputs": [
    {
     "data": {
      "text/plain": [
       "Row(Body=u\"<p>I'd like to check if an uploaded file is an image file (e.g png, jpg, jpeg, gif, bmp) or another file. The problem is that I'm using Uploadify to upload the files, which changes the mime type and gives a 'text/octal' or something as the mime type, no matter which file type you upload.</p>\\n\\n<p>Is there a way to check if the uploaded file is an image apart from checking the file extension using PHP?</p>\\n\", Id=1, Tags=u'php image-processing file-upload upload mime-types', Title=u'How to check if an uploaded file is an image without mime type?', oneTag=u'php', words=[u'p', u'i', u'd', u'like', u'to', u'check', u'if', u'an', u'uploaded', u'file', u'is', u'an', u'image', u'file', u'e', u'g', u'png', u'jpg', u'jpeg', u'gif', u'bmp', u'or', u'another', u'file', u'the', u'problem', u'is', u'that', u'i', u'm', u'using', u'uploadify', u'to', u'upload', u'the', u'files', u'which', u'changes', u'the', u'mime', u'type', u'and', u'gives', u'a', u'text', u'octal', u'or', u'something', u'as', u'the', u'mime', u'type', u'no', u'matter', u'which', u'file', u'type', u'you', u'upload', u'p', u'p', u'is', u'there', u'a', u'way', u'to', u'check', u'if', u'the', u'uploaded', u'file', u'is', u'an', u'image', u'apart', u'from', u'checking', u'the', u'file', u'extension', u'using', u'php', u'p'], BodyLength=83)"
      ]
     },
     "execution_count": 7,
     "metadata": {},
     "output_type": "execute_result"
    }
   ],
   "source": [
    "df.head()"
   ]
  },
  {
   "cell_type": "code",
   "execution_count": 8,
   "metadata": {},
   "outputs": [],
   "source": [
    "number_of_paragraphs = udf(lambda x: len(re.findall(\"</p>\", x)), IntegerType())\n",
    "number_of_links = udf(lambda x: len(re.findall(\"</a>\", x)), IntegerType())"
   ]
  },
  {
   "cell_type": "code",
   "execution_count": 9,
   "metadata": {},
   "outputs": [],
   "source": [
    "df = df.withColumn(\"NumParagraphs\", number_of_paragraphs(df.Body))\n",
    "df = df.withColumn(\"NumLinks\", number_of_links(df.Body))"
   ]
  },
  {
   "cell_type": "code",
   "execution_count": 10,
   "metadata": {},
   "outputs": [
    {
     "data": {
      "text/plain": [
       "[Row(Body=u\"<p>I'd like to check if an uploaded file is an image file (e.g png, jpg, jpeg, gif, bmp) or another file. The problem is that I'm using Uploadify to upload the files, which changes the mime type and gives a 'text/octal' or something as the mime type, no matter which file type you upload.</p>\\n\\n<p>Is there a way to check if the uploaded file is an image apart from checking the file extension using PHP?</p>\\n\", Id=1, Tags=u'php image-processing file-upload upload mime-types', Title=u'How to check if an uploaded file is an image without mime type?', oneTag=u'php', words=[u'p', u'i', u'd', u'like', u'to', u'check', u'if', u'an', u'uploaded', u'file', u'is', u'an', u'image', u'file', u'e', u'g', u'png', u'jpg', u'jpeg', u'gif', u'bmp', u'or', u'another', u'file', u'the', u'problem', u'is', u'that', u'i', u'm', u'using', u'uploadify', u'to', u'upload', u'the', u'files', u'which', u'changes', u'the', u'mime', u'type', u'and', u'gives', u'a', u'text', u'octal', u'or', u'something', u'as', u'the', u'mime', u'type', u'no', u'matter', u'which', u'file', u'type', u'you', u'upload', u'p', u'p', u'is', u'there', u'a', u'way', u'to', u'check', u'if', u'the', u'uploaded', u'file', u'is', u'an', u'image', u'apart', u'from', u'checking', u'the', u'file', u'extension', u'using', u'php', u'p'], BodyLength=83, NumParagraphs=2, NumLinks=0),\n",
       " Row(Body=u'<p>In my favorite editor (vim), I regularly use ctrl-w to execute a certain action. Now, it quite often happens to me that firefox is the active window (on windows) while I still look at vim (thinking vim is the active window) and press ctrl-w which closes firefox. This is not what I want. Is there a way to stop ctrl-w from closing firefox?</p>\\n\\n<p>Rene</p>\\n', Id=2, Tags=u'firefox', Title=u'How can I prevent firefox from closing when I press ctrl-w', oneTag=u'firefox', words=[u'p', u'in', u'my', u'favorite', u'editor', u'vim', u'i', u'regularly', u'use', u'ctrl', u'w', u'to', u'execute', u'a', u'certain', u'action', u'now', u'it', u'quite', u'often', u'happens', u'to', u'me', u'that', u'firefox', u'is', u'the', u'active', u'window', u'on', u'windows', u'while', u'i', u'still', u'look', u'at', u'vim', u'thinking', u'vim', u'is', u'the', u'active', u'window', u'and', u'press', u'ctrl', u'w', u'which', u'closes', u'firefox', u'this', u'is', u'not', u'what', u'i', u'want', u'is', u'there', u'a', u'way', u'to', u'stop', u'ctrl', u'w', u'from', u'closing', u'firefox', u'p', u'p', u'rene', u'p'], BodyLength=71, NumParagraphs=2, NumLinks=0)]"
      ]
     },
     "execution_count": 10,
     "metadata": {},
     "output_type": "execute_result"
    }
   ],
   "source": [
    "df.head(2)"
   ]
  },
  {
   "cell_type": "code",
   "execution_count": 11,
   "metadata": {},
   "outputs": [],
   "source": [
    "assembler = VectorAssembler(inputCols=[\"BodyLength\", \"NumParagraphs\", \"NumLinks\"], outputCol=\"NumFeatures\")\n",
    "df = assembler.transform(df)"
   ]
  },
  {
   "cell_type": "code",
   "execution_count": 12,
   "metadata": {},
   "outputs": [
    {
     "data": {
      "text/plain": [
       "Row(Body=u\"<p>I'd like to check if an uploaded file is an image file (e.g png, jpg, jpeg, gif, bmp) or another file. The problem is that I'm using Uploadify to upload the files, which changes the mime type and gives a 'text/octal' or something as the mime type, no matter which file type you upload.</p>\\n\\n<p>Is there a way to check if the uploaded file is an image apart from checking the file extension using PHP?</p>\\n\", Id=1, Tags=u'php image-processing file-upload upload mime-types', Title=u'How to check if an uploaded file is an image without mime type?', oneTag=u'php', words=[u'p', u'i', u'd', u'like', u'to', u'check', u'if', u'an', u'uploaded', u'file', u'is', u'an', u'image', u'file', u'e', u'g', u'png', u'jpg', u'jpeg', u'gif', u'bmp', u'or', u'another', u'file', u'the', u'problem', u'is', u'that', u'i', u'm', u'using', u'uploadify', u'to', u'upload', u'the', u'files', u'which', u'changes', u'the', u'mime', u'type', u'and', u'gives', u'a', u'text', u'octal', u'or', u'something', u'as', u'the', u'mime', u'type', u'no', u'matter', u'which', u'file', u'type', u'you', u'upload', u'p', u'p', u'is', u'there', u'a', u'way', u'to', u'check', u'if', u'the', u'uploaded', u'file', u'is', u'an', u'image', u'apart', u'from', u'checking', u'the', u'file', u'extension', u'using', u'php', u'p'], BodyLength=83, NumParagraphs=2, NumLinks=0, NumFeatures=DenseVector([83.0, 2.0, 0.0]))"
      ]
     },
     "execution_count": 12,
     "metadata": {},
     "output_type": "execute_result"
    }
   ],
   "source": [
    "df.head()"
   ]
  },
  {
   "cell_type": "code",
   "execution_count": 13,
   "metadata": {},
   "outputs": [],
   "source": [
    "scaler = Normalizer(inputCol=\"NumFeatures\", outputCol=\"ScaledNumFeatures\")\n",
    "df = scaler.transform(df)"
   ]
  },
  {
   "cell_type": "code",
   "execution_count": 14,
   "metadata": {},
   "outputs": [
    {
     "data": {
      "text/plain": [
       "[Row(Body=u\"<p>I'd like to check if an uploaded file is an image file (e.g png, jpg, jpeg, gif, bmp) or another file. The problem is that I'm using Uploadify to upload the files, which changes the mime type and gives a 'text/octal' or something as the mime type, no matter which file type you upload.</p>\\n\\n<p>Is there a way to check if the uploaded file is an image apart from checking the file extension using PHP?</p>\\n\", Id=1, Tags=u'php image-processing file-upload upload mime-types', Title=u'How to check if an uploaded file is an image without mime type?', oneTag=u'php', words=[u'p', u'i', u'd', u'like', u'to', u'check', u'if', u'an', u'uploaded', u'file', u'is', u'an', u'image', u'file', u'e', u'g', u'png', u'jpg', u'jpeg', u'gif', u'bmp', u'or', u'another', u'file', u'the', u'problem', u'is', u'that', u'i', u'm', u'using', u'uploadify', u'to', u'upload', u'the', u'files', u'which', u'changes', u'the', u'mime', u'type', u'and', u'gives', u'a', u'text', u'octal', u'or', u'something', u'as', u'the', u'mime', u'type', u'no', u'matter', u'which', u'file', u'type', u'you', u'upload', u'p', u'p', u'is', u'there', u'a', u'way', u'to', u'check', u'if', u'the', u'uploaded', u'file', u'is', u'an', u'image', u'apart', u'from', u'checking', u'the', u'file', u'extension', u'using', u'php', u'p'], BodyLength=83, NumParagraphs=2, NumLinks=0, NumFeatures=DenseVector([83.0, 2.0, 0.0]), ScaledNumFeatures=DenseVector([0.9997, 0.0241, 0.0])),\n",
       " Row(Body=u'<p>In my favorite editor (vim), I regularly use ctrl-w to execute a certain action. Now, it quite often happens to me that firefox is the active window (on windows) while I still look at vim (thinking vim is the active window) and press ctrl-w which closes firefox. This is not what I want. Is there a way to stop ctrl-w from closing firefox?</p>\\n\\n<p>Rene</p>\\n', Id=2, Tags=u'firefox', Title=u'How can I prevent firefox from closing when I press ctrl-w', oneTag=u'firefox', words=[u'p', u'in', u'my', u'favorite', u'editor', u'vim', u'i', u'regularly', u'use', u'ctrl', u'w', u'to', u'execute', u'a', u'certain', u'action', u'now', u'it', u'quite', u'often', u'happens', u'to', u'me', u'that', u'firefox', u'is', u'the', u'active', u'window', u'on', u'windows', u'while', u'i', u'still', u'look', u'at', u'vim', u'thinking', u'vim', u'is', u'the', u'active', u'window', u'and', u'press', u'ctrl', u'w', u'which', u'closes', u'firefox', u'this', u'is', u'not', u'what', u'i', u'want', u'is', u'there', u'a', u'way', u'to', u'stop', u'ctrl', u'w', u'from', u'closing', u'firefox', u'p', u'p', u'rene', u'p'], BodyLength=71, NumParagraphs=2, NumLinks=0, NumFeatures=DenseVector([71.0, 2.0, 0.0]), ScaledNumFeatures=DenseVector([0.9996, 0.0282, 0.0]))]"
      ]
     },
     "execution_count": 14,
     "metadata": {},
     "output_type": "execute_result"
    }
   ],
   "source": [
    "df.head(2)"
   ]
  },
  {
   "cell_type": "code",
   "execution_count": 15,
   "metadata": {},
   "outputs": [],
   "source": [
    "scaler2 = StandardScaler(inputCol=\"NumFeatures\", outputCol=\"ScaledNumFeatures2\", withStd=True)\n",
    "scalerModel = scaler2.fit(df)\n",
    "df = scalerModel.transform(df)"
   ]
  },
  {
   "cell_type": "code",
   "execution_count": 16,
   "metadata": {},
   "outputs": [
    {
     "data": {
      "text/plain": [
       "[Row(Body=u\"<p>I'd like to check if an uploaded file is an image file (e.g png, jpg, jpeg, gif, bmp) or another file. The problem is that I'm using Uploadify to upload the files, which changes the mime type and gives a 'text/octal' or something as the mime type, no matter which file type you upload.</p>\\n\\n<p>Is there a way to check if the uploaded file is an image apart from checking the file extension using PHP?</p>\\n\", Id=1, Tags=u'php image-processing file-upload upload mime-types', Title=u'How to check if an uploaded file is an image without mime type?', oneTag=u'php', words=[u'p', u'i', u'd', u'like', u'to', u'check', u'if', u'an', u'uploaded', u'file', u'is', u'an', u'image', u'file', u'e', u'g', u'png', u'jpg', u'jpeg', u'gif', u'bmp', u'or', u'another', u'file', u'the', u'problem', u'is', u'that', u'i', u'm', u'using', u'uploadify', u'to', u'upload', u'the', u'files', u'which', u'changes', u'the', u'mime', u'type', u'and', u'gives', u'a', u'text', u'octal', u'or', u'something', u'as', u'the', u'mime', u'type', u'no', u'matter', u'which', u'file', u'type', u'you', u'upload', u'p', u'p', u'is', u'there', u'a', u'way', u'to', u'check', u'if', u'the', u'uploaded', u'file', u'is', u'an', u'image', u'apart', u'from', u'checking', u'the', u'file', u'extension', u'using', u'php', u'p'], BodyLength=83, NumParagraphs=2, NumLinks=0, NumFeatures=DenseVector([83.0, 2.0, 0.0]), ScaledNumFeatures=DenseVector([0.9997, 0.0241, 0.0]), ScaledNumFeatures2=DenseVector([0.4325, 0.7037, 0.0])),\n",
       " Row(Body=u'<p>In my favorite editor (vim), I regularly use ctrl-w to execute a certain action. Now, it quite often happens to me that firefox is the active window (on windows) while I still look at vim (thinking vim is the active window) and press ctrl-w which closes firefox. This is not what I want. Is there a way to stop ctrl-w from closing firefox?</p>\\n\\n<p>Rene</p>\\n', Id=2, Tags=u'firefox', Title=u'How can I prevent firefox from closing when I press ctrl-w', oneTag=u'firefox', words=[u'p', u'in', u'my', u'favorite', u'editor', u'vim', u'i', u'regularly', u'use', u'ctrl', u'w', u'to', u'execute', u'a', u'certain', u'action', u'now', u'it', u'quite', u'often', u'happens', u'to', u'me', u'that', u'firefox', u'is', u'the', u'active', u'window', u'on', u'windows', u'while', u'i', u'still', u'look', u'at', u'vim', u'thinking', u'vim', u'is', u'the', u'active', u'window', u'and', u'press', u'ctrl', u'w', u'which', u'closes', u'firefox', u'this', u'is', u'not', u'what', u'i', u'want', u'is', u'there', u'a', u'way', u'to', u'stop', u'ctrl', u'w', u'from', u'closing', u'firefox', u'p', u'p', u'rene', u'p'], BodyLength=71, NumParagraphs=2, NumLinks=0, NumFeatures=DenseVector([71.0, 2.0, 0.0]), ScaledNumFeatures=DenseVector([0.9996, 0.0282, 0.0]), ScaledNumFeatures2=DenseVector([0.3699, 0.7037, 0.0]))]"
      ]
     },
     "execution_count": 16,
     "metadata": {},
     "output_type": "execute_result"
    }
   ],
   "source": [
    "df.head(2)"
   ]
  },
  {
   "cell_type": "markdown",
   "metadata": {},
   "source": [
    "Quiz time"
   ]
  },
  {
   "cell_type": "code",
   "execution_count": 28,
   "metadata": {},
   "outputs": [
    {
     "name": "stdout",
     "output_type": "stream",
     "text": [
      "+--------------------+----+--------------------+--------------------+------+--------------------+----------+-------------+--------+--------------+--------------------+--------------------+\n",
      "|                Body|  Id|                Tags|               Title|oneTag|               words|BodyLength|NumParagraphs|NumLinks|   NumFeatures|   ScaledNumFeatures|  ScaledNumFeatures2|\n",
      "+--------------------+----+--------------------+--------------------+------+--------------------+----------+-------------+--------+--------------+--------------------+--------------------+\n",
      "|<p>I submitted my...|1112|iphone app-store ...|iPhone app releas...|iphone|[p, i, submitted,...|        63|            1|       0|[63.0,1.0,0.0]|[0.99987404748359...|[0.32825169441613...|\n",
      "+--------------------+----+--------------------+--------------------+------+--------------------+----------+-------------+--------+--------------+--------------------+--------------------+\n",
      "\n"
     ]
    }
   ],
   "source": [
    "df.where(df.Id == 1112).show()"
   ]
  },
  {
   "cell_type": "code",
   "execution_count": 30,
   "metadata": {},
   "outputs": [],
   "source": [
    "df = df.withColumn(\"Desc\", concat(col(\"Title\"), lit(' '), col(\"Body\")))"
   ]
  },
  {
   "cell_type": "code",
   "execution_count": 31,
   "metadata": {},
   "outputs": [],
   "source": [
    "regexTokenizer2 = RegexTokenizer(inputCol=\"Desc\", outputCol=\"words2\", pattern=\"\\\\W\")\n",
    "df = regexTokenizer2.transform(df)\n",
    "df = df.withColumn(\"DescLength\", body_length(df.words2))"
   ]
  },
  {
   "cell_type": "code",
   "execution_count": 33,
   "metadata": {},
   "outputs": [
    {
     "data": {
      "text/plain": [
       "[Row(Body=u\"<p>Here's an interesting experiment with using Git. Think of Github's \\u2018pages\\u2019 feature: I write a program in one branch (e.g. <code>master</code>), and a documentation website is kept in another, entirely unrelated branch (e.g. <code>gh-pages</code>).</p>\\n\\n<p>I can generate documentation in HTML format from the code in my <code>master</code>-branch, but I want to publish this as part of my documentation website in the <code>gh-pages</code> branch.</p>\\n\\n<p>How could I intelligently generate my docs from my code in <code>master</code>, move it to my <code>gh-pages</code> branch and commit the changes there? Should I use a post-commit hook or something? Would this be a good idea, or is it utterly foolish?</p>\\n\", Id=5123, Tags=u'git branch', Title=u'Git branch experiment', oneTag=u'git', words=[u'p', u'here', u's', u'an', u'interesting', u'experiment', u'with', u'using', u'git', u'think', u'of', u'github', u's', u'pages', u'feature', u'i', u'write', u'a', u'program', u'in', u'one', u'branch', u'e', u'g', u'code', u'master', u'code', u'and', u'a', u'documentation', u'website', u'is', u'kept', u'in', u'another', u'entirely', u'unrelated', u'branch', u'e', u'g', u'code', u'gh', u'pages', u'code', u'p', u'p', u'i', u'can', u'generate', u'documentation', u'in', u'html', u'format', u'from', u'the', u'code', u'in', u'my', u'code', u'master', u'code', u'branch', u'but', u'i', u'want', u'to', u'publish', u'this', u'as', u'part', u'of', u'my', u'documentation', u'website', u'in', u'the', u'code', u'gh', u'pages', u'code', u'branch', u'p', u'p', u'how', u'could', u'i', u'intelligently', u'generate', u'my', u'docs', u'from', u'my', u'code', u'in', u'code', u'master', u'code', u'move', u'it', u'to', u'my', u'code', u'gh', u'pages', u'code', u'branch', u'and', u'commit', u'the', u'changes', u'there', u'should', u'i', u'use', u'a', u'post', u'commit', u'hook', u'or', u'something', u'would', u'this', u'be', u'a', u'good', u'idea', u'or', u'is', u'it', u'utterly', u'foolish', u'p'], BodyLength=132, NumParagraphs=3, NumLinks=0, NumFeatures=DenseVector([132.0, 3.0, 0.0]), ScaledNumFeatures=DenseVector([0.9997, 0.0227, 0.0]), ScaledNumFeatures2=DenseVector([0.6878, 1.0555, 0.0]), Desc=u\"Git branch experiment <p>Here's an interesting experiment with using Git. Think of Github's \\u2018pages\\u2019 feature: I write a program in one branch (e.g. <code>master</code>), and a documentation website is kept in another, entirely unrelated branch (e.g. <code>gh-pages</code>).</p>\\n\\n<p>I can generate documentation in HTML format from the code in my <code>master</code>-branch, but I want to publish this as part of my documentation website in the <code>gh-pages</code> branch.</p>\\n\\n<p>How could I intelligently generate my docs from my code in <code>master</code>, move it to my <code>gh-pages</code> branch and commit the changes there? Should I use a post-commit hook or something? Would this be a good idea, or is it utterly foolish?</p>\\n\", words2=[u'git', u'branch', u'experiment', u'p', u'here', u's', u'an', u'interesting', u'experiment', u'with', u'using', u'git', u'think', u'of', u'github', u's', u'pages', u'feature', u'i', u'write', u'a', u'program', u'in', u'one', u'branch', u'e', u'g', u'code', u'master', u'code', u'and', u'a', u'documentation', u'website', u'is', u'kept', u'in', u'another', u'entirely', u'unrelated', u'branch', u'e', u'g', u'code', u'gh', u'pages', u'code', u'p', u'p', u'i', u'can', u'generate', u'documentation', u'in', u'html', u'format', u'from', u'the', u'code', u'in', u'my', u'code', u'master', u'code', u'branch', u'but', u'i', u'want', u'to', u'publish', u'this', u'as', u'part', u'of', u'my', u'documentation', u'website', u'in', u'the', u'code', u'gh', u'pages', u'code', u'branch', u'p', u'p', u'how', u'could', u'i', u'intelligently', u'generate', u'my', u'docs', u'from', u'my', u'code', u'in', u'code', u'master', u'code', u'move', u'it', u'to', u'my', u'code', u'gh', u'pages', u'code', u'branch', u'and', u'commit', u'the', u'changes', u'there', u'should', u'i', u'use', u'a', u'post', u'commit', u'hook', u'or', u'something', u'would', u'this', u'be', u'a', u'good', u'idea', u'or', u'is', u'it', u'utterly', u'foolish', u'p'], DescLength=135)]"
      ]
     },
     "execution_count": 33,
     "metadata": {},
     "output_type": "execute_result"
    }
   ],
   "source": [
    "df.where(df.Id == 5123).collect()"
   ]
  },
  {
   "cell_type": "code",
   "execution_count": 34,
   "metadata": {},
   "outputs": [],
   "source": [
    "assembler2 = VectorAssembler(inputCols=[\"DescLength\"], outputCol=\"DescVec\")\n",
    "df = assembler2.transform(df)"
   ]
  },
  {
   "cell_type": "code",
   "execution_count": 35,
   "metadata": {},
   "outputs": [],
   "source": [
    "scaler_q1 = Normalizer(inputCol=\"DescVec\", outputCol=\"DescVecNormalizer\")\n",
    "df = scaler_q1.transform(df)"
   ]
  },
  {
   "cell_type": "code",
   "execution_count": 36,
   "metadata": {},
   "outputs": [
    {
     "data": {
      "text/plain": [
       "[Row(Body=u\"<p>I'd like to have a better understanding of what optimizations HotSpot might generate for my Java code at run time. </p>\\n\\n<p>Is there a way to see the optimized code that HotSpot is using after it's been running for a while?</p>\\n\", Id=512, Tags=u'java optimization hotspot', Title=u'How can I see the code that HotSpot generates after optimizing?', oneTag=u'java', words=[u'p', u'i', u'd', u'like', u'to', u'have', u'a', u'better', u'understanding', u'of', u'what', u'optimizations', u'hotspot', u'might', u'generate', u'for', u'my', u'java', u'code', u'at', u'run', u'time', u'p', u'p', u'is', u'there', u'a', u'way', u'to', u'see', u'the', u'optimized', u'code', u'that', u'hotspot', u'is', u'using', u'after', u'it', u's', u'been', u'running', u'for', u'a', u'while', u'p'], BodyLength=46, NumParagraphs=2, NumLinks=0, NumFeatures=DenseVector([46.0, 2.0, 0.0]), ScaledNumFeatures=DenseVector([0.9991, 0.0434, 0.0]), ScaledNumFeatures2=DenseVector([0.2397, 0.7037, 0.0]), Desc=u\"How can I see the code that HotSpot generates after optimizing? <p>I'd like to have a better understanding of what optimizations HotSpot might generate for my Java code at run time. </p>\\n\\n<p>Is there a way to see the optimized code that HotSpot is using after it's been running for a while?</p>\\n\", words2=[u'how', u'can', u'i', u'see', u'the', u'code', u'that', u'hotspot', u'generates', u'after', u'optimizing', u'p', u'i', u'd', u'like', u'to', u'have', u'a', u'better', u'understanding', u'of', u'what', u'optimizations', u'hotspot', u'might', u'generate', u'for', u'my', u'java', u'code', u'at', u'run', u'time', u'p', u'p', u'is', u'there', u'a', u'way', u'to', u'see', u'the', u'optimized', u'code', u'that', u'hotspot', u'is', u'using', u'after', u'it', u's', u'been', u'running', u'for', u'a', u'while', u'p'], DescLength=57, DescVec=DenseVector([57.0]), DescVecNormalizer=DenseVector([1.0]))]"
      ]
     },
     "execution_count": 36,
     "metadata": {},
     "output_type": "execute_result"
    }
   ],
   "source": [
    "df.where(df.Id == 512).collect()"
   ]
  },
  {
   "cell_type": "code",
   "execution_count": 44,
   "metadata": {},
   "outputs": [],
   "source": [
    "scaler_q2 = StandardScaler(inputCol=\"DescVec\", outputCol=\"DescVecStandardScaler4\", withMean=False, withStd=False)\n",
    "scalerModel_q2 = scaler_q2.fit(df)\n",
    "df = scalerModel_q2.transform(df)"
   ]
  },
  {
   "cell_type": "code",
   "execution_count": 45,
   "metadata": {},
   "outputs": [
    {
     "data": {
      "text/plain": [
       "[Row(Body=u\"<p>I'd like to have a better understanding of what optimizations HotSpot might generate for my Java code at run time. </p>\\n\\n<p>Is there a way to see the optimized code that HotSpot is using after it's been running for a while?</p>\\n\", Id=512, Tags=u'java optimization hotspot', Title=u'How can I see the code that HotSpot generates after optimizing?', oneTag=u'java', words=[u'p', u'i', u'd', u'like', u'to', u'have', u'a', u'better', u'understanding', u'of', u'what', u'optimizations', u'hotspot', u'might', u'generate', u'for', u'my', u'java', u'code', u'at', u'run', u'time', u'p', u'p', u'is', u'there', u'a', u'way', u'to', u'see', u'the', u'optimized', u'code', u'that', u'hotspot', u'is', u'using', u'after', u'it', u's', u'been', u'running', u'for', u'a', u'while', u'p'], BodyLength=46, NumParagraphs=2, NumLinks=0, NumFeatures=DenseVector([46.0, 2.0, 0.0]), ScaledNumFeatures=DenseVector([0.9991, 0.0434, 0.0]), ScaledNumFeatures2=DenseVector([0.2397, 0.7037, 0.0]), Desc=u\"How can I see the code that HotSpot generates after optimizing? <p>I'd like to have a better understanding of what optimizations HotSpot might generate for my Java code at run time. </p>\\n\\n<p>Is there a way to see the optimized code that HotSpot is using after it's been running for a while?</p>\\n\", words2=[u'how', u'can', u'i', u'see', u'the', u'code', u'that', u'hotspot', u'generates', u'after', u'optimizing', u'p', u'i', u'd', u'like', u'to', u'have', u'a', u'better', u'understanding', u'of', u'what', u'optimizations', u'hotspot', u'might', u'generate', u'for', u'my', u'java', u'code', u'at', u'run', u'time', u'p', u'p', u'is', u'there', u'a', u'way', u'to', u'see', u'the', u'optimized', u'code', u'that', u'hotspot', u'is', u'using', u'after', u'it', u's', u'been', u'running', u'for', u'a', u'while', u'p'], DescLength=57, DescVec=DenseVector([57.0]), DescVecNormalizer=DenseVector([1.0]), DescVecStandardScaler=DenseVector([-0.6417]), DescVecStandardScaler2=DenseVector([-0.6417]), DescVecStandardScaler3=DenseVector([0.2967]), DescVecStandardScaler4=DenseVector([57.0]))]"
      ]
     },
     "execution_count": 45,
     "metadata": {},
     "output_type": "execute_result"
    }
   ],
   "source": [
    "df.where(df.Id == 512).collect()"
   ]
  },
  {
   "cell_type": "code",
   "execution_count": 46,
   "metadata": {},
   "outputs": [],
   "source": [
    "from pyspark.ml.feature import MinMaxScaler\n",
    "scaler_q3 = MinMaxScaler(inputCol=\"DescVec\", outputCol=\"DescVecMinMaxScaler\")\n",
    "scalerModel_q3 = scaler_q3.fit(df)\n",
    "df = scalerModel_q3.transform(df)"
   ]
  },
  {
   "cell_type": "code",
   "execution_count": 47,
   "metadata": {},
   "outputs": [
    {
     "data": {
      "text/plain": [
       "[Row(Body=u\"<p>I'd like to have a better understanding of what optimizations HotSpot might generate for my Java code at run time. </p>\\n\\n<p>Is there a way to see the optimized code that HotSpot is using after it's been running for a while?</p>\\n\", Id=512, Tags=u'java optimization hotspot', Title=u'How can I see the code that HotSpot generates after optimizing?', oneTag=u'java', words=[u'p', u'i', u'd', u'like', u'to', u'have', u'a', u'better', u'understanding', u'of', u'what', u'optimizations', u'hotspot', u'might', u'generate', u'for', u'my', u'java', u'code', u'at', u'run', u'time', u'p', u'p', u'is', u'there', u'a', u'way', u'to', u'see', u'the', u'optimized', u'code', u'that', u'hotspot', u'is', u'using', u'after', u'it', u's', u'been', u'running', u'for', u'a', u'while', u'p'], BodyLength=46, NumParagraphs=2, NumLinks=0, NumFeatures=DenseVector([46.0, 2.0, 0.0]), ScaledNumFeatures=DenseVector([0.9991, 0.0434, 0.0]), ScaledNumFeatures2=DenseVector([0.2397, 0.7037, 0.0]), Desc=u\"How can I see the code that HotSpot generates after optimizing? <p>I'd like to have a better understanding of what optimizations HotSpot might generate for my Java code at run time. </p>\\n\\n<p>Is there a way to see the optimized code that HotSpot is using after it's been running for a while?</p>\\n\", words2=[u'how', u'can', u'i', u'see', u'the', u'code', u'that', u'hotspot', u'generates', u'after', u'optimizing', u'p', u'i', u'd', u'like', u'to', u'have', u'a', u'better', u'understanding', u'of', u'what', u'optimizations', u'hotspot', u'might', u'generate', u'for', u'my', u'java', u'code', u'at', u'run', u'time', u'p', u'p', u'is', u'there', u'a', u'way', u'to', u'see', u'the', u'optimized', u'code', u'that', u'hotspot', u'is', u'using', u'after', u'it', u's', u'been', u'running', u'for', u'a', u'while', u'p'], DescLength=57, DescVec=DenseVector([57.0]), DescVecNormalizer=DenseVector([1.0]), DescVecStandardScaler=DenseVector([-0.6417]), DescVecStandardScaler2=DenseVector([-0.6417]), DescVecStandardScaler3=DenseVector([0.2967]), DescVecStandardScaler4=DenseVector([57.0]), DescVecMinMaxScaler=DenseVector([0.0062]))]"
      ]
     },
     "execution_count": 47,
     "metadata": {},
     "output_type": "execute_result"
    }
   ],
   "source": [
    "df.where(df.Id == 512).collect()"
   ]
  },
  {
   "cell_type": "code",
   "execution_count": 48,
   "metadata": {},
   "outputs": [
    {
     "data": {
      "text/plain": [
       "[Row(Body=u\"<p>I'd like to check if an uploaded file is an image file (e.g png, jpg, jpeg, gif, bmp) or another file. The problem is that I'm using Uploadify to upload the files, which changes the mime type and gives a 'text/octal' or something as the mime type, no matter which file type you upload.</p>\\n\\n<p>Is there a way to check if the uploaded file is an image apart from checking the file extension using PHP?</p>\\n\", Id=1, Tags=u'php image-processing file-upload upload mime-types', Title=u'How to check if an uploaded file is an image without mime type?', oneTag=u'php', words=[u'p', u'i', u'd', u'like', u'to', u'check', u'if', u'an', u'uploaded', u'file', u'is', u'an', u'image', u'file', u'e', u'g', u'png', u'jpg', u'jpeg', u'gif', u'bmp', u'or', u'another', u'file', u'the', u'problem', u'is', u'that', u'i', u'm', u'using', u'uploadify', u'to', u'upload', u'the', u'files', u'which', u'changes', u'the', u'mime', u'type', u'and', u'gives', u'a', u'text', u'octal', u'or', u'something', u'as', u'the', u'mime', u'type', u'no', u'matter', u'which', u'file', u'type', u'you', u'upload', u'p', u'p', u'is', u'there', u'a', u'way', u'to', u'check', u'if', u'the', u'uploaded', u'file', u'is', u'an', u'image', u'apart', u'from', u'checking', u'the', u'file', u'extension', u'using', u'php', u'p'], BodyLength=83, NumParagraphs=2, NumLinks=0, NumFeatures=DenseVector([83.0, 2.0, 0.0]), ScaledNumFeatures=DenseVector([0.9997, 0.0241, 0.0]), ScaledNumFeatures2=DenseVector([0.4325, 0.7037, 0.0]), Desc=u\"How to check if an uploaded file is an image without mime type? <p>I'd like to check if an uploaded file is an image file (e.g png, jpg, jpeg, gif, bmp) or another file. The problem is that I'm using Uploadify to upload the files, which changes the mime type and gives a 'text/octal' or something as the mime type, no matter which file type you upload.</p>\\n\\n<p>Is there a way to check if the uploaded file is an image apart from checking the file extension using PHP?</p>\\n\", words2=[u'how', u'to', u'check', u'if', u'an', u'uploaded', u'file', u'is', u'an', u'image', u'without', u'mime', u'type', u'p', u'i', u'd', u'like', u'to', u'check', u'if', u'an', u'uploaded', u'file', u'is', u'an', u'image', u'file', u'e', u'g', u'png', u'jpg', u'jpeg', u'gif', u'bmp', u'or', u'another', u'file', u'the', u'problem', u'is', u'that', u'i', u'm', u'using', u'uploadify', u'to', u'upload', u'the', u'files', u'which', u'changes', u'the', u'mime', u'type', u'and', u'gives', u'a', u'text', u'octal', u'or', u'something', u'as', u'the', u'mime', u'type', u'no', u'matter', u'which', u'file', u'type', u'you', u'upload', u'p', u'p', u'is', u'there', u'a', u'way', u'to', u'check', u'if', u'the', u'uploaded', u'file', u'is', u'an', u'image', u'apart', u'from', u'checking', u'the', u'file', u'extension', u'using', u'php', u'p'], DescLength=96, DescVec=DenseVector([96.0]), DescVecNormalizer=DenseVector([1.0]), DescVecStandardScaler=DenseVector([-0.4387]), DescVecStandardScaler2=DenseVector([-0.4387]), DescVecStandardScaler3=DenseVector([0.4997]), DescVecStandardScaler4=DenseVector([96.0]), DescVecMinMaxScaler=DenseVector([0.0114]), TF=SparseVector(1000, {0: 4.0, 1: 6.0, 2: 2.0, 3: 3.0, 5: 2.0, 8: 4.0, 9: 1.0, 15: 1.0, 21: 2.0, 28: 1.0, 31: 1.0, 35: 3.0, 36: 1.0, 43: 2.0, 45: 2.0, 48: 1.0, 51: 1.0, 57: 6.0, 61: 2.0, 71: 1.0, 78: 1.0, 84: 3.0, 86: 1.0, 94: 1.0, 97: 1.0, 99: 1.0, 100: 1.0, 115: 1.0, 147: 2.0, 152: 1.0, 169: 1.0, 241: 1.0, 283: 1.0, 306: 1.0, 350: 2.0, 490: 1.0, 578: 1.0, 759: 1.0, 832: 2.0}))]"
      ]
     },
     "execution_count": 48,
     "metadata": {},
     "output_type": "execute_result"
    }
   ],
   "source": [
    "cv = CountVectorizer(inputCol=\"words\", outputCol=\"TF\", vocabSize=1000)\n",
    "cvmodel = cv.fit(df)\n",
    "df = cvmodel.transform(df)\n",
    "df.take(1)"
   ]
  },
  {
   "cell_type": "code",
   "execution_count": 49,
   "metadata": {},
   "outputs": [
    {
     "data": {
      "text/plain": [
       "[u'customer',\n",
       " u'desktop',\n",
       " u'buttons',\n",
       " u'previous',\n",
       " u'master',\n",
       " u'math',\n",
       " u'000',\n",
       " u'blog',\n",
       " u'comes',\n",
       " u'wordpress']"
      ]
     },
     "execution_count": 49,
     "metadata": {},
     "output_type": "execute_result"
    }
   ],
   "source": [
    "cvmodel.vocabulary[-10:]"
   ]
  },
  {
   "cell_type": "code",
   "execution_count": 50,
   "metadata": {},
   "outputs": [
    {
     "data": {
      "text/plain": [
       "Row(Body=u\"<p>I'd like to check if an uploaded file is an image file (e.g png, jpg, jpeg, gif, bmp) or another file. The problem is that I'm using Uploadify to upload the files, which changes the mime type and gives a 'text/octal' or something as the mime type, no matter which file type you upload.</p>\\n\\n<p>Is there a way to check if the uploaded file is an image apart from checking the file extension using PHP?</p>\\n\", Id=1, Tags=u'php image-processing file-upload upload mime-types', Title=u'How to check if an uploaded file is an image without mime type?', oneTag=u'php', words=[u'p', u'i', u'd', u'like', u'to', u'check', u'if', u'an', u'uploaded', u'file', u'is', u'an', u'image', u'file', u'e', u'g', u'png', u'jpg', u'jpeg', u'gif', u'bmp', u'or', u'another', u'file', u'the', u'problem', u'is', u'that', u'i', u'm', u'using', u'uploadify', u'to', u'upload', u'the', u'files', u'which', u'changes', u'the', u'mime', u'type', u'and', u'gives', u'a', u'text', u'octal', u'or', u'something', u'as', u'the', u'mime', u'type', u'no', u'matter', u'which', u'file', u'type', u'you', u'upload', u'p', u'p', u'is', u'there', u'a', u'way', u'to', u'check', u'if', u'the', u'uploaded', u'file', u'is', u'an', u'image', u'apart', u'from', u'checking', u'the', u'file', u'extension', u'using', u'php', u'p'], BodyLength=83, NumParagraphs=2, NumLinks=0, NumFeatures=DenseVector([83.0, 2.0, 0.0]), ScaledNumFeatures=DenseVector([0.9997, 0.0241, 0.0]), ScaledNumFeatures2=DenseVector([0.4325, 0.7037, 0.0]), Desc=u\"How to check if an uploaded file is an image without mime type? <p>I'd like to check if an uploaded file is an image file (e.g png, jpg, jpeg, gif, bmp) or another file. The problem is that I'm using Uploadify to upload the files, which changes the mime type and gives a 'text/octal' or something as the mime type, no matter which file type you upload.</p>\\n\\n<p>Is there a way to check if the uploaded file is an image apart from checking the file extension using PHP?</p>\\n\", words2=[u'how', u'to', u'check', u'if', u'an', u'uploaded', u'file', u'is', u'an', u'image', u'without', u'mime', u'type', u'p', u'i', u'd', u'like', u'to', u'check', u'if', u'an', u'uploaded', u'file', u'is', u'an', u'image', u'file', u'e', u'g', u'png', u'jpg', u'jpeg', u'gif', u'bmp', u'or', u'another', u'file', u'the', u'problem', u'is', u'that', u'i', u'm', u'using', u'uploadify', u'to', u'upload', u'the', u'files', u'which', u'changes', u'the', u'mime', u'type', u'and', u'gives', u'a', u'text', u'octal', u'or', u'something', u'as', u'the', u'mime', u'type', u'no', u'matter', u'which', u'file', u'type', u'you', u'upload', u'p', u'p', u'is', u'there', u'a', u'way', u'to', u'check', u'if', u'the', u'uploaded', u'file', u'is', u'an', u'image', u'apart', u'from', u'checking', u'the', u'file', u'extension', u'using', u'php', u'p'], DescLength=96, DescVec=DenseVector([96.0]), DescVecNormalizer=DenseVector([1.0]), DescVecStandardScaler=DenseVector([-0.4387]), DescVecStandardScaler2=DenseVector([-0.4387]), DescVecStandardScaler3=DenseVector([0.4997]), DescVecStandardScaler4=DenseVector([96.0]), DescVecMinMaxScaler=DenseVector([0.0114]), TF=SparseVector(1000, {0: 4.0, 1: 6.0, 2: 2.0, 3: 3.0, 5: 2.0, 8: 4.0, 9: 1.0, 15: 1.0, 21: 2.0, 28: 1.0, 31: 1.0, 35: 3.0, 36: 1.0, 43: 2.0, 45: 2.0, 48: 1.0, 51: 1.0, 57: 6.0, 61: 2.0, 71: 1.0, 78: 1.0, 84: 3.0, 86: 1.0, 94: 1.0, 97: 1.0, 99: 1.0, 100: 1.0, 115: 1.0, 147: 2.0, 152: 1.0, 169: 1.0, 241: 1.0, 283: 1.0, 306: 1.0, 350: 2.0, 490: 1.0, 578: 1.0, 759: 1.0, 832: 2.0}), TFIDF=SparseVector(1000, {0: 0.0026, 1: 0.7515, 2: 0.1374, 3: 0.3184, 5: 0.3823, 8: 1.0754, 9: 0.3344, 15: 0.5899, 21: 1.8551, 28: 1.1263, 31: 1.1113, 35: 3.3134, 36: 1.2545, 43: 2.3741, 45: 2.3753, 48: 1.2254, 51: 1.1879, 57: 11.0264, 61: 2.8957, 71: 2.1945, 78: 1.6947, 84: 6.5898, 86: 1.6136, 94: 2.3569, 97: 1.8218, 99: 2.6292, 100: 1.9206, 115: 2.3592, 147: 5.4841, 152: 2.1116, 169: 2.6328, 241: 2.5745, 283: 3.2325, 306: 3.2668, 350: 6.2367, 490: 3.8893, 578: 3.6182, 759: 3.7771, 832: 8.8964}))"
      ]
     },
     "execution_count": 50,
     "metadata": {},
     "output_type": "execute_result"
    }
   ],
   "source": [
    "idf = IDF(inputCol=\"TF\", outputCol=\"TFIDF\")\n",
    "idfModel = idf.fit(df)\n",
    "df = idfModel.transform(df)\n",
    "df.head()"
   ]
  },
  {
   "cell_type": "code",
   "execution_count": 51,
   "metadata": {},
   "outputs": [],
   "source": [
    "indexer = StringIndexer(inputCol=\"oneTag\", outputCol=\"label\")\n",
    "df = indexer.fit(df).transform(df)"
   ]
  },
  {
   "cell_type": "code",
   "execution_count": 52,
   "metadata": {},
   "outputs": [
    {
     "data": {
      "text/plain": [
       "Row(Body=u\"<p>I'd like to check if an uploaded file is an image file (e.g png, jpg, jpeg, gif, bmp) or another file. The problem is that I'm using Uploadify to upload the files, which changes the mime type and gives a 'text/octal' or something as the mime type, no matter which file type you upload.</p>\\n\\n<p>Is there a way to check if the uploaded file is an image apart from checking the file extension using PHP?</p>\\n\", Id=1, Tags=u'php image-processing file-upload upload mime-types', Title=u'How to check if an uploaded file is an image without mime type?', oneTag=u'php', words=[u'p', u'i', u'd', u'like', u'to', u'check', u'if', u'an', u'uploaded', u'file', u'is', u'an', u'image', u'file', u'e', u'g', u'png', u'jpg', u'jpeg', u'gif', u'bmp', u'or', u'another', u'file', u'the', u'problem', u'is', u'that', u'i', u'm', u'using', u'uploadify', u'to', u'upload', u'the', u'files', u'which', u'changes', u'the', u'mime', u'type', u'and', u'gives', u'a', u'text', u'octal', u'or', u'something', u'as', u'the', u'mime', u'type', u'no', u'matter', u'which', u'file', u'type', u'you', u'upload', u'p', u'p', u'is', u'there', u'a', u'way', u'to', u'check', u'if', u'the', u'uploaded', u'file', u'is', u'an', u'image', u'apart', u'from', u'checking', u'the', u'file', u'extension', u'using', u'php', u'p'], BodyLength=83, NumParagraphs=2, NumLinks=0, NumFeatures=DenseVector([83.0, 2.0, 0.0]), ScaledNumFeatures=DenseVector([0.9997, 0.0241, 0.0]), ScaledNumFeatures2=DenseVector([0.4325, 0.7037, 0.0]), Desc=u\"How to check if an uploaded file is an image without mime type? <p>I'd like to check if an uploaded file is an image file (e.g png, jpg, jpeg, gif, bmp) or another file. The problem is that I'm using Uploadify to upload the files, which changes the mime type and gives a 'text/octal' or something as the mime type, no matter which file type you upload.</p>\\n\\n<p>Is there a way to check if the uploaded file is an image apart from checking the file extension using PHP?</p>\\n\", words2=[u'how', u'to', u'check', u'if', u'an', u'uploaded', u'file', u'is', u'an', u'image', u'without', u'mime', u'type', u'p', u'i', u'd', u'like', u'to', u'check', u'if', u'an', u'uploaded', u'file', u'is', u'an', u'image', u'file', u'e', u'g', u'png', u'jpg', u'jpeg', u'gif', u'bmp', u'or', u'another', u'file', u'the', u'problem', u'is', u'that', u'i', u'm', u'using', u'uploadify', u'to', u'upload', u'the', u'files', u'which', u'changes', u'the', u'mime', u'type', u'and', u'gives', u'a', u'text', u'octal', u'or', u'something', u'as', u'the', u'mime', u'type', u'no', u'matter', u'which', u'file', u'type', u'you', u'upload', u'p', u'p', u'is', u'there', u'a', u'way', u'to', u'check', u'if', u'the', u'uploaded', u'file', u'is', u'an', u'image', u'apart', u'from', u'checking', u'the', u'file', u'extension', u'using', u'php', u'p'], DescLength=96, DescVec=DenseVector([96.0]), DescVecNormalizer=DenseVector([1.0]), DescVecStandardScaler=DenseVector([-0.4387]), DescVecStandardScaler2=DenseVector([-0.4387]), DescVecStandardScaler3=DenseVector([0.4997]), DescVecStandardScaler4=DenseVector([96.0]), DescVecMinMaxScaler=DenseVector([0.0114]), TF=SparseVector(1000, {0: 4.0, 1: 6.0, 2: 2.0, 3: 3.0, 5: 2.0, 8: 4.0, 9: 1.0, 15: 1.0, 21: 2.0, 28: 1.0, 31: 1.0, 35: 3.0, 36: 1.0, 43: 2.0, 45: 2.0, 48: 1.0, 51: 1.0, 57: 6.0, 61: 2.0, 71: 1.0, 78: 1.0, 84: 3.0, 86: 1.0, 94: 1.0, 97: 1.0, 99: 1.0, 100: 1.0, 115: 1.0, 147: 2.0, 152: 1.0, 169: 1.0, 241: 1.0, 283: 1.0, 306: 1.0, 350: 2.0, 490: 1.0, 578: 1.0, 759: 1.0, 832: 2.0}), TFIDF=SparseVector(1000, {0: 0.0026, 1: 0.7515, 2: 0.1374, 3: 0.3184, 5: 0.3823, 8: 1.0754, 9: 0.3344, 15: 0.5899, 21: 1.8551, 28: 1.1263, 31: 1.1113, 35: 3.3134, 36: 1.2545, 43: 2.3741, 45: 2.3753, 48: 1.2254, 51: 1.1879, 57: 11.0264, 61: 2.8957, 71: 2.1945, 78: 1.6947, 84: 6.5898, 86: 1.6136, 94: 2.3569, 97: 1.8218, 99: 2.6292, 100: 1.9206, 115: 2.3592, 147: 5.4841, 152: 2.1116, 169: 2.6328, 241: 2.5745, 283: 3.2325, 306: 3.2668, 350: 6.2367, 490: 3.8893, 578: 3.6182, 759: 3.7771, 832: 8.8964}), label=3.0)"
      ]
     },
     "execution_count": 52,
     "metadata": {},
     "output_type": "execute_result"
    }
   ],
   "source": [
    "df.head()"
   ]
  },
  {
   "cell_type": "code",
   "execution_count": null,
   "metadata": {},
   "outputs": [],
   "source": [
    "pca = PCA(k=100, inputCol=\"TFIDF\", outputCol=\"pcaTFIDF\")\n",
    "model = pca.fit(df)\n",
    "df = model.transform(df)"
   ]
  },
  {
   "cell_type": "code",
   "execution_count": null,
   "metadata": {},
   "outputs": [],
   "source": [
    "df.head()"
   ]
  },
  {
   "cell_type": "code",
   "execution_count": 53,
   "metadata": {},
   "outputs": [],
   "source": [
    "number_of_tags = udf(lambda x: len(x.split(\" \")), IntegerType())\n",
    "df = df.withColumn(\"NumTags\", number_of_tags(df.Tags))"
   ]
  },
  {
   "cell_type": "code",
   "execution_count": 54,
   "metadata": {},
   "outputs": [
    {
     "data": {
      "text/plain": [
       "Row(Body=u\"<p>I'd like to check if an uploaded file is an image file (e.g png, jpg, jpeg, gif, bmp) or another file. The problem is that I'm using Uploadify to upload the files, which changes the mime type and gives a 'text/octal' or something as the mime type, no matter which file type you upload.</p>\\n\\n<p>Is there a way to check if the uploaded file is an image apart from checking the file extension using PHP?</p>\\n\", Id=1, Tags=u'php image-processing file-upload upload mime-types', Title=u'How to check if an uploaded file is an image without mime type?', oneTag=u'php', words=[u'p', u'i', u'd', u'like', u'to', u'check', u'if', u'an', u'uploaded', u'file', u'is', u'an', u'image', u'file', u'e', u'g', u'png', u'jpg', u'jpeg', u'gif', u'bmp', u'or', u'another', u'file', u'the', u'problem', u'is', u'that', u'i', u'm', u'using', u'uploadify', u'to', u'upload', u'the', u'files', u'which', u'changes', u'the', u'mime', u'type', u'and', u'gives', u'a', u'text', u'octal', u'or', u'something', u'as', u'the', u'mime', u'type', u'no', u'matter', u'which', u'file', u'type', u'you', u'upload', u'p', u'p', u'is', u'there', u'a', u'way', u'to', u'check', u'if', u'the', u'uploaded', u'file', u'is', u'an', u'image', u'apart', u'from', u'checking', u'the', u'file', u'extension', u'using', u'php', u'p'], BodyLength=83, NumParagraphs=2, NumLinks=0, NumFeatures=DenseVector([83.0, 2.0, 0.0]), ScaledNumFeatures=DenseVector([0.9997, 0.0241, 0.0]), ScaledNumFeatures2=DenseVector([0.4325, 0.7037, 0.0]), Desc=u\"How to check if an uploaded file is an image without mime type? <p>I'd like to check if an uploaded file is an image file (e.g png, jpg, jpeg, gif, bmp) or another file. The problem is that I'm using Uploadify to upload the files, which changes the mime type and gives a 'text/octal' or something as the mime type, no matter which file type you upload.</p>\\n\\n<p>Is there a way to check if the uploaded file is an image apart from checking the file extension using PHP?</p>\\n\", words2=[u'how', u'to', u'check', u'if', u'an', u'uploaded', u'file', u'is', u'an', u'image', u'without', u'mime', u'type', u'p', u'i', u'd', u'like', u'to', u'check', u'if', u'an', u'uploaded', u'file', u'is', u'an', u'image', u'file', u'e', u'g', u'png', u'jpg', u'jpeg', u'gif', u'bmp', u'or', u'another', u'file', u'the', u'problem', u'is', u'that', u'i', u'm', u'using', u'uploadify', u'to', u'upload', u'the', u'files', u'which', u'changes', u'the', u'mime', u'type', u'and', u'gives', u'a', u'text', u'octal', u'or', u'something', u'as', u'the', u'mime', u'type', u'no', u'matter', u'which', u'file', u'type', u'you', u'upload', u'p', u'p', u'is', u'there', u'a', u'way', u'to', u'check', u'if', u'the', u'uploaded', u'file', u'is', u'an', u'image', u'apart', u'from', u'checking', u'the', u'file', u'extension', u'using', u'php', u'p'], DescLength=96, DescVec=DenseVector([96.0]), DescVecNormalizer=DenseVector([1.0]), DescVecStandardScaler=DenseVector([-0.4387]), DescVecStandardScaler2=DenseVector([-0.4387]), DescVecStandardScaler3=DenseVector([0.4997]), DescVecStandardScaler4=DenseVector([96.0]), DescVecMinMaxScaler=DenseVector([0.0114]), TF=SparseVector(1000, {0: 4.0, 1: 6.0, 2: 2.0, 3: 3.0, 5: 2.0, 8: 4.0, 9: 1.0, 15: 1.0, 21: 2.0, 28: 1.0, 31: 1.0, 35: 3.0, 36: 1.0, 43: 2.0, 45: 2.0, 48: 1.0, 51: 1.0, 57: 6.0, 61: 2.0, 71: 1.0, 78: 1.0, 84: 3.0, 86: 1.0, 94: 1.0, 97: 1.0, 99: 1.0, 100: 1.0, 115: 1.0, 147: 2.0, 152: 1.0, 169: 1.0, 241: 1.0, 283: 1.0, 306: 1.0, 350: 2.0, 490: 1.0, 578: 1.0, 759: 1.0, 832: 2.0}), TFIDF=SparseVector(1000, {0: 0.0026, 1: 0.7515, 2: 0.1374, 3: 0.3184, 5: 0.3823, 8: 1.0754, 9: 0.3344, 15: 0.5899, 21: 1.8551, 28: 1.1263, 31: 1.1113, 35: 3.3134, 36: 1.2545, 43: 2.3741, 45: 2.3753, 48: 1.2254, 51: 1.1879, 57: 11.0264, 61: 2.8957, 71: 2.1945, 78: 1.6947, 84: 6.5898, 86: 1.6136, 94: 2.3569, 97: 1.8218, 99: 2.6292, 100: 1.9206, 115: 2.3592, 147: 5.4841, 152: 2.1116, 169: 2.6328, 241: 2.5745, 283: 3.2325, 306: 3.2668, 350: 6.2367, 490: 3.8893, 578: 3.6182, 759: 3.7771, 832: 8.8964}), label=3.0, NumTags=5)"
      ]
     },
     "execution_count": 54,
     "metadata": {},
     "output_type": "execute_result"
    }
   ],
   "source": [
    "df.head()"
   ]
  },
  {
   "cell_type": "code",
   "execution_count": 55,
   "metadata": {},
   "outputs": [
    {
     "name": "stdout",
     "output_type": "stream",
     "text": [
      "+-------+-----+\n",
      "|NumTags|count|\n",
      "+-------+-----+\n",
      "|      1|13858|\n",
      "|      2|26540|\n",
      "|      3|28769|\n",
      "|      4|19108|\n",
      "|      5|11725|\n",
      "+-------+-----+\n",
      "\n"
     ]
    }
   ],
   "source": [
    "df.groupby(\"NumTags\").count().orderBy(\"NumTags\").show()"
   ]
  },
  {
   "cell_type": "code",
   "execution_count": 56,
   "metadata": {},
   "outputs": [
    {
     "name": "stdout",
     "output_type": "stream",
     "text": [
      "+-------+------------------+\n",
      "|NumTags|   avg(BodyLength)|\n",
      "+-------+------------------+\n",
      "|      1|135.41311877615817|\n",
      "|      2|153.82456669178598|\n",
      "|      3|172.73704334526747|\n",
      "|      4|192.67050450073268|\n",
      "|      5|218.54251599147122|\n",
      "+-------+------------------+\n",
      "\n"
     ]
    }
   ],
   "source": [
    "df.groupby(\"NumTags\").agg(avg(col(\"BodyLength\"))).orderBy(\"NumTags\").show()"
   ]
  },
  {
   "cell_type": "code",
   "execution_count": 57,
   "metadata": {},
   "outputs": [],
   "source": [
    "assembler = VectorAssembler(inputCols=[\"BodyLength\"], outputCol=\"LengthFeature\")\n",
    "df = assembler.transform(df)"
   ]
  },
  {
   "cell_type": "code",
   "execution_count": 58,
   "metadata": {},
   "outputs": [
    {
     "data": {
      "text/plain": [
       "Row(Body=u\"<p>I'd like to check if an uploaded file is an image file (e.g png, jpg, jpeg, gif, bmp) or another file. The problem is that I'm using Uploadify to upload the files, which changes the mime type and gives a 'text/octal' or something as the mime type, no matter which file type you upload.</p>\\n\\n<p>Is there a way to check if the uploaded file is an image apart from checking the file extension using PHP?</p>\\n\", Id=1, Tags=u'php image-processing file-upload upload mime-types', Title=u'How to check if an uploaded file is an image without mime type?', oneTag=u'php', words=[u'p', u'i', u'd', u'like', u'to', u'check', u'if', u'an', u'uploaded', u'file', u'is', u'an', u'image', u'file', u'e', u'g', u'png', u'jpg', u'jpeg', u'gif', u'bmp', u'or', u'another', u'file', u'the', u'problem', u'is', u'that', u'i', u'm', u'using', u'uploadify', u'to', u'upload', u'the', u'files', u'which', u'changes', u'the', u'mime', u'type', u'and', u'gives', u'a', u'text', u'octal', u'or', u'something', u'as', u'the', u'mime', u'type', u'no', u'matter', u'which', u'file', u'type', u'you', u'upload', u'p', u'p', u'is', u'there', u'a', u'way', u'to', u'check', u'if', u'the', u'uploaded', u'file', u'is', u'an', u'image', u'apart', u'from', u'checking', u'the', u'file', u'extension', u'using', u'php', u'p'], BodyLength=83, NumParagraphs=2, NumLinks=0, NumFeatures=DenseVector([83.0, 2.0, 0.0]), ScaledNumFeatures=DenseVector([0.9997, 0.0241, 0.0]), ScaledNumFeatures2=DenseVector([0.4325, 0.7037, 0.0]), Desc=u\"How to check if an uploaded file is an image without mime type? <p>I'd like to check if an uploaded file is an image file (e.g png, jpg, jpeg, gif, bmp) or another file. The problem is that I'm using Uploadify to upload the files, which changes the mime type and gives a 'text/octal' or something as the mime type, no matter which file type you upload.</p>\\n\\n<p>Is there a way to check if the uploaded file is an image apart from checking the file extension using PHP?</p>\\n\", words2=[u'how', u'to', u'check', u'if', u'an', u'uploaded', u'file', u'is', u'an', u'image', u'without', u'mime', u'type', u'p', u'i', u'd', u'like', u'to', u'check', u'if', u'an', u'uploaded', u'file', u'is', u'an', u'image', u'file', u'e', u'g', u'png', u'jpg', u'jpeg', u'gif', u'bmp', u'or', u'another', u'file', u'the', u'problem', u'is', u'that', u'i', u'm', u'using', u'uploadify', u'to', u'upload', u'the', u'files', u'which', u'changes', u'the', u'mime', u'type', u'and', u'gives', u'a', u'text', u'octal', u'or', u'something', u'as', u'the', u'mime', u'type', u'no', u'matter', u'which', u'file', u'type', u'you', u'upload', u'p', u'p', u'is', u'there', u'a', u'way', u'to', u'check', u'if', u'the', u'uploaded', u'file', u'is', u'an', u'image', u'apart', u'from', u'checking', u'the', u'file', u'extension', u'using', u'php', u'p'], DescLength=96, DescVec=DenseVector([96.0]), DescVecNormalizer=DenseVector([1.0]), DescVecStandardScaler=DenseVector([-0.4387]), DescVecStandardScaler2=DenseVector([-0.4387]), DescVecStandardScaler3=DenseVector([0.4997]), DescVecStandardScaler4=DenseVector([96.0]), DescVecMinMaxScaler=DenseVector([0.0114]), TF=SparseVector(1000, {0: 4.0, 1: 6.0, 2: 2.0, 3: 3.0, 5: 2.0, 8: 4.0, 9: 1.0, 15: 1.0, 21: 2.0, 28: 1.0, 31: 1.0, 35: 3.0, 36: 1.0, 43: 2.0, 45: 2.0, 48: 1.0, 51: 1.0, 57: 6.0, 61: 2.0, 71: 1.0, 78: 1.0, 84: 3.0, 86: 1.0, 94: 1.0, 97: 1.0, 99: 1.0, 100: 1.0, 115: 1.0, 147: 2.0, 152: 1.0, 169: 1.0, 241: 1.0, 283: 1.0, 306: 1.0, 350: 2.0, 490: 1.0, 578: 1.0, 759: 1.0, 832: 2.0}), TFIDF=SparseVector(1000, {0: 0.0026, 1: 0.7515, 2: 0.1374, 3: 0.3184, 5: 0.3823, 8: 1.0754, 9: 0.3344, 15: 0.5899, 21: 1.8551, 28: 1.1263, 31: 1.1113, 35: 3.3134, 36: 1.2545, 43: 2.3741, 45: 2.3753, 48: 1.2254, 51: 1.1879, 57: 11.0264, 61: 2.8957, 71: 2.1945, 78: 1.6947, 84: 6.5898, 86: 1.6136, 94: 2.3569, 97: 1.8218, 99: 2.6292, 100: 1.9206, 115: 2.3592, 147: 5.4841, 152: 2.1116, 169: 2.6328, 241: 2.5745, 283: 3.2325, 306: 3.2668, 350: 6.2367, 490: 3.8893, 578: 3.6182, 759: 3.7771, 832: 8.8964}), label=3.0, NumTags=5, LengthFeature=DenseVector([83.0]))"
      ]
     },
     "execution_count": 58,
     "metadata": {},
     "output_type": "execute_result"
    }
   ],
   "source": [
    "df.head()"
   ]
  },
  {
   "cell_type": "code",
   "execution_count": 62,
   "metadata": {},
   "outputs": [],
   "source": [
    "lr = LinearRegression(maxIter=5, regParam=0.0, fitIntercept=False, solver=\"normal\")"
   ]
  },
  {
   "cell_type": "code",
   "execution_count": 63,
   "metadata": {},
   "outputs": [
    {
     "data": {
      "text/plain": [
       "Row(label=5, features=DenseVector([83.0]))"
      ]
     },
     "execution_count": 63,
     "metadata": {},
     "output_type": "execute_result"
    }
   ],
   "source": [
    "data = df.select(col(\"NumTags\").alias(\"label\"), col(\"LengthFeature\").alias(\"features\"))\n",
    "data.head()"
   ]
  },
  {
   "cell_type": "code",
   "execution_count": 64,
   "metadata": {},
   "outputs": [],
   "source": [
    "lrModel = lr.fit(data)"
   ]
  },
  {
   "cell_type": "code",
   "execution_count": 65,
   "metadata": {},
   "outputs": [
    {
     "data": {
      "text/plain": [
       "DenseVector([0.0079])"
      ]
     },
     "execution_count": 65,
     "metadata": {},
     "output_type": "execute_result"
    }
   ],
   "source": [
    "lrModel.coefficients"
   ]
  },
  {
   "cell_type": "code",
   "execution_count": 66,
   "metadata": {},
   "outputs": [
    {
     "data": {
      "text/plain": [
       "0.0"
      ]
     },
     "execution_count": 66,
     "metadata": {},
     "output_type": "execute_result"
    }
   ],
   "source": [
    "lrModel.intercept"
   ]
  },
  {
   "cell_type": "code",
   "execution_count": 67,
   "metadata": {},
   "outputs": [],
   "source": [
    "lrModelSummary = lrModel.summary"
   ]
  },
  {
   "cell_type": "code",
   "execution_count": 68,
   "metadata": {},
   "outputs": [
    {
     "data": {
      "text/plain": [
       "0.42481762576079773"
      ]
     },
     "execution_count": 68,
     "metadata": {},
     "output_type": "execute_result"
    }
   ],
   "source": [
    "lrModelSummary.r2"
   ]
  },
  {
   "cell_type": "markdown",
   "metadata": {},
   "source": [
    "Quiz time"
   ]
  },
  {
   "cell_type": "code",
   "execution_count": 69,
   "metadata": {},
   "outputs": [
    {
     "name": "stdout",
     "output_type": "stream",
     "text": [
      "+-------+------------------+\n",
      "|NumTags|   avg(DescLength)|\n",
      "+-------+------------------+\n",
      "|      1|143.68776158175783|\n",
      "|      2| 162.1539186134137|\n",
      "|      3|181.26021064340088|\n",
      "|      4|201.46530249110322|\n",
      "|      5|227.64375266524522|\n",
      "+-------+------------------+\n",
      "\n"
     ]
    }
   ],
   "source": [
    "df.groupby(\"NumTags\").agg(avg(col(\"DescLength\"))).orderBy(\"NumTags\").show()"
   ]
  },
  {
   "cell_type": "code",
   "execution_count": 72,
   "metadata": {},
   "outputs": [
    {
     "data": {
      "text/plain": [
       "Row(label=5, features=DenseVector([96.0]))"
      ]
     },
     "execution_count": 72,
     "metadata": {},
     "output_type": "execute_result"
    }
   ],
   "source": [
    "data = df.select(col(\"NumTags\").alias(\"label\"), col(\"DescVec\").alias(\"features\"))\n",
    "data.head()"
   ]
  },
  {
   "cell_type": "code",
   "execution_count": 73,
   "metadata": {},
   "outputs": [],
   "source": [
    "lrModel_q1 = lr.fit(data)"
   ]
  },
  {
   "cell_type": "code",
   "execution_count": 74,
   "metadata": {},
   "outputs": [
    {
     "data": {
      "text/plain": [
       "0.44551495963084176"
      ]
     },
     "execution_count": 74,
     "metadata": {},
     "output_type": "execute_result"
    }
   ],
   "source": [
    "lrModel_q1.summary.r2"
   ]
  },
  {
   "cell_type": "markdown",
   "metadata": {},
   "source": [
    "Back to Logistic Regression"
   ]
  },
  {
   "cell_type": "code",
   "execution_count": null,
   "metadata": {},
   "outputs": [],
   "source": [
    "data2 = df.select(col(\"label\").alias(\"label\"), col(\"TFIDF\").alias(\"features\"))\n",
    "data2.head()"
   ]
  },
  {
   "cell_type": "code",
   "execution_count": null,
   "metadata": {},
   "outputs": [],
   "source": [
    "lr2 = LogisticRegression(maxIter=10, regParam=0.0)"
   ]
  },
  {
   "cell_type": "code",
   "execution_count": null,
   "metadata": {},
   "outputs": [],
   "source": [
    "lrModel2 = lr2.fit(data2)"
   ]
  },
  {
   "cell_type": "code",
   "execution_count": null,
   "metadata": {},
   "outputs": [],
   "source": [
    "lrModel2.coefficientMatrix"
   ]
  },
  {
   "cell_type": "code",
   "execution_count": null,
   "metadata": {},
   "outputs": [],
   "source": [
    "lrModel2.interceptVector"
   ]
  },
  {
   "cell_type": "code",
   "execution_count": null,
   "metadata": {},
   "outputs": [],
   "source": [
    "lrModel2.summary.accuracy"
   ]
  },
  {
   "cell_type": "code",
   "execution_count": null,
   "metadata": {},
   "outputs": [],
   "source": [
    "1/301.0"
   ]
  },
  {
   "cell_type": "markdown",
   "metadata": {},
   "source": [
    "Quiz - Clustering"
   ]
  },
  {
   "cell_type": "code",
   "execution_count": 75,
   "metadata": {},
   "outputs": [],
   "source": [
    "from pyspark.ml.clustering import KMeans"
   ]
  },
  {
   "cell_type": "code",
   "execution_count": 76,
   "metadata": {},
   "outputs": [
    {
     "data": {
      "text/plain": [
       "Row(Body=u\"<p>I'd like to check if an uploaded file is an image file (e.g png, jpg, jpeg, gif, bmp) or another file. The problem is that I'm using Uploadify to upload the files, which changes the mime type and gives a 'text/octal' or something as the mime type, no matter which file type you upload.</p>\\n\\n<p>Is there a way to check if the uploaded file is an image apart from checking the file extension using PHP?</p>\\n\", Id=1, Tags=u'php image-processing file-upload upload mime-types', Title=u'How to check if an uploaded file is an image without mime type?', oneTag=u'php', words=[u'p', u'i', u'd', u'like', u'to', u'check', u'if', u'an', u'uploaded', u'file', u'is', u'an', u'image', u'file', u'e', u'g', u'png', u'jpg', u'jpeg', u'gif', u'bmp', u'or', u'another', u'file', u'the', u'problem', u'is', u'that', u'i', u'm', u'using', u'uploadify', u'to', u'upload', u'the', u'files', u'which', u'changes', u'the', u'mime', u'type', u'and', u'gives', u'a', u'text', u'octal', u'or', u'something', u'as', u'the', u'mime', u'type', u'no', u'matter', u'which', u'file', u'type', u'you', u'upload', u'p', u'p', u'is', u'there', u'a', u'way', u'to', u'check', u'if', u'the', u'uploaded', u'file', u'is', u'an', u'image', u'apart', u'from', u'checking', u'the', u'file', u'extension', u'using', u'php', u'p'], BodyLength=83, NumParagraphs=2, NumLinks=0, NumFeatures=DenseVector([83.0, 2.0, 0.0]), ScaledNumFeatures=DenseVector([0.9997, 0.0241, 0.0]), ScaledNumFeatures2=DenseVector([0.4325, 0.7037, 0.0]), Desc=u\"How to check if an uploaded file is an image without mime type? <p>I'd like to check if an uploaded file is an image file (e.g png, jpg, jpeg, gif, bmp) or another file. The problem is that I'm using Uploadify to upload the files, which changes the mime type and gives a 'text/octal' or something as the mime type, no matter which file type you upload.</p>\\n\\n<p>Is there a way to check if the uploaded file is an image apart from checking the file extension using PHP?</p>\\n\", words2=[u'how', u'to', u'check', u'if', u'an', u'uploaded', u'file', u'is', u'an', u'image', u'without', u'mime', u'type', u'p', u'i', u'd', u'like', u'to', u'check', u'if', u'an', u'uploaded', u'file', u'is', u'an', u'image', u'file', u'e', u'g', u'png', u'jpg', u'jpeg', u'gif', u'bmp', u'or', u'another', u'file', u'the', u'problem', u'is', u'that', u'i', u'm', u'using', u'uploadify', u'to', u'upload', u'the', u'files', u'which', u'changes', u'the', u'mime', u'type', u'and', u'gives', u'a', u'text', u'octal', u'or', u'something', u'as', u'the', u'mime', u'type', u'no', u'matter', u'which', u'file', u'type', u'you', u'upload', u'p', u'p', u'is', u'there', u'a', u'way', u'to', u'check', u'if', u'the', u'uploaded', u'file', u'is', u'an', u'image', u'apart', u'from', u'checking', u'the', u'file', u'extension', u'using', u'php', u'p'], DescLength=96, DescVec=DenseVector([96.0]), DescVecNormalizer=DenseVector([1.0]), DescVecStandardScaler=DenseVector([-0.4387]), DescVecStandardScaler2=DenseVector([-0.4387]), DescVecStandardScaler3=DenseVector([0.4997]), DescVecStandardScaler4=DenseVector([96.0]), DescVecMinMaxScaler=DenseVector([0.0114]), TF=SparseVector(1000, {0: 4.0, 1: 6.0, 2: 2.0, 3: 3.0, 5: 2.0, 8: 4.0, 9: 1.0, 15: 1.0, 21: 2.0, 28: 1.0, 31: 1.0, 35: 3.0, 36: 1.0, 43: 2.0, 45: 2.0, 48: 1.0, 51: 1.0, 57: 6.0, 61: 2.0, 71: 1.0, 78: 1.0, 84: 3.0, 86: 1.0, 94: 1.0, 97: 1.0, 99: 1.0, 100: 1.0, 115: 1.0, 147: 2.0, 152: 1.0, 169: 1.0, 241: 1.0, 283: 1.0, 306: 1.0, 350: 2.0, 490: 1.0, 578: 1.0, 759: 1.0, 832: 2.0}), TFIDF=SparseVector(1000, {0: 0.0026, 1: 0.7515, 2: 0.1374, 3: 0.3184, 5: 0.3823, 8: 1.0754, 9: 0.3344, 15: 0.5899, 21: 1.8551, 28: 1.1263, 31: 1.1113, 35: 3.3134, 36: 1.2545, 43: 2.3741, 45: 2.3753, 48: 1.2254, 51: 1.1879, 57: 11.0264, 61: 2.8957, 71: 2.1945, 78: 1.6947, 84: 6.5898, 86: 1.6136, 94: 2.3569, 97: 1.8218, 99: 2.6292, 100: 1.9206, 115: 2.3592, 147: 5.4841, 152: 2.1116, 169: 2.6328, 241: 2.5745, 283: 3.2325, 306: 3.2668, 350: 6.2367, 490: 3.8893, 578: 3.6182, 759: 3.7771, 832: 8.8964}), label=3.0, NumTags=5, LengthFeature=DenseVector([83.0]))"
      ]
     },
     "execution_count": 76,
     "metadata": {},
     "output_type": "execute_result"
    }
   ],
   "source": [
    "df.head()"
   ]
  },
  {
   "cell_type": "code",
   "execution_count": 88,
   "metadata": {},
   "outputs": [
    {
     "name": "stdout",
     "output_type": "stream",
     "text": [
      "+---------------+\n",
      "|min(DescLength)|\n",
      "+---------------+\n",
      "|             10|\n",
      "+---------------+\n",
      "\n"
     ]
    }
   ],
   "source": [
    "df.agg(min(\"DescLength\")).show()"
   ]
  },
  {
   "cell_type": "code",
   "execution_count": 89,
   "metadata": {},
   "outputs": [
    {
     "name": "stdout",
     "output_type": "stream",
     "text": [
      "+---------------+\n",
      "|max(DescLength)|\n",
      "+---------------+\n",
      "|           7532|\n",
      "+---------------+\n",
      "\n"
     ]
    }
   ],
   "source": [
    "df.agg(max(\"DescLength\")).show()"
   ]
  },
  {
   "cell_type": "code",
   "execution_count": 93,
   "metadata": {},
   "outputs": [
    {
     "name": "stdout",
     "output_type": "stream",
     "text": [
      "+---------------+-----------------------+\n",
      "|avg(DescLength)|stddev_samp(DescLength)|\n",
      "+---------------+-----------------------+\n",
      "|      180.28187|     192.10819533505128|\n",
      "+---------------+-----------------------+\n",
      "\n"
     ]
    }
   ],
   "source": [
    "df.agg(avg(\"DescLength\"), stddev(\"DescLength\")).show()"
   ]
  },
  {
   "cell_type": "code",
   "execution_count": 78,
   "metadata": {},
   "outputs": [],
   "source": [
    "kmeans = KMeans().setParams(featuresCol=\"DescVec\", predictionCol=\"DescGroup\", k=5, seed=42)\n",
    "model = kmeans.fit(df)\n",
    "df = model.transform(df)"
   ]
  },
  {
   "cell_type": "code",
   "execution_count": 79,
   "metadata": {},
   "outputs": [
    {
     "data": {
      "text/plain": [
       "Row(Body=u\"<p>I'd like to check if an uploaded file is an image file (e.g png, jpg, jpeg, gif, bmp) or another file. The problem is that I'm using Uploadify to upload the files, which changes the mime type and gives a 'text/octal' or something as the mime type, no matter which file type you upload.</p>\\n\\n<p>Is there a way to check if the uploaded file is an image apart from checking the file extension using PHP?</p>\\n\", Id=1, Tags=u'php image-processing file-upload upload mime-types', Title=u'How to check if an uploaded file is an image without mime type?', oneTag=u'php', words=[u'p', u'i', u'd', u'like', u'to', u'check', u'if', u'an', u'uploaded', u'file', u'is', u'an', u'image', u'file', u'e', u'g', u'png', u'jpg', u'jpeg', u'gif', u'bmp', u'or', u'another', u'file', u'the', u'problem', u'is', u'that', u'i', u'm', u'using', u'uploadify', u'to', u'upload', u'the', u'files', u'which', u'changes', u'the', u'mime', u'type', u'and', u'gives', u'a', u'text', u'octal', u'or', u'something', u'as', u'the', u'mime', u'type', u'no', u'matter', u'which', u'file', u'type', u'you', u'upload', u'p', u'p', u'is', u'there', u'a', u'way', u'to', u'check', u'if', u'the', u'uploaded', u'file', u'is', u'an', u'image', u'apart', u'from', u'checking', u'the', u'file', u'extension', u'using', u'php', u'p'], BodyLength=83, NumParagraphs=2, NumLinks=0, NumFeatures=DenseVector([83.0, 2.0, 0.0]), ScaledNumFeatures=DenseVector([0.9997, 0.0241, 0.0]), ScaledNumFeatures2=DenseVector([0.4325, 0.7037, 0.0]), Desc=u\"How to check if an uploaded file is an image without mime type? <p>I'd like to check if an uploaded file is an image file (e.g png, jpg, jpeg, gif, bmp) or another file. The problem is that I'm using Uploadify to upload the files, which changes the mime type and gives a 'text/octal' or something as the mime type, no matter which file type you upload.</p>\\n\\n<p>Is there a way to check if the uploaded file is an image apart from checking the file extension using PHP?</p>\\n\", words2=[u'how', u'to', u'check', u'if', u'an', u'uploaded', u'file', u'is', u'an', u'image', u'without', u'mime', u'type', u'p', u'i', u'd', u'like', u'to', u'check', u'if', u'an', u'uploaded', u'file', u'is', u'an', u'image', u'file', u'e', u'g', u'png', u'jpg', u'jpeg', u'gif', u'bmp', u'or', u'another', u'file', u'the', u'problem', u'is', u'that', u'i', u'm', u'using', u'uploadify', u'to', u'upload', u'the', u'files', u'which', u'changes', u'the', u'mime', u'type', u'and', u'gives', u'a', u'text', u'octal', u'or', u'something', u'as', u'the', u'mime', u'type', u'no', u'matter', u'which', u'file', u'type', u'you', u'upload', u'p', u'p', u'is', u'there', u'a', u'way', u'to', u'check', u'if', u'the', u'uploaded', u'file', u'is', u'an', u'image', u'apart', u'from', u'checking', u'the', u'file', u'extension', u'using', u'php', u'p'], DescLength=96, DescVec=DenseVector([96.0]), DescVecNormalizer=DenseVector([1.0]), DescVecStandardScaler=DenseVector([-0.4387]), DescVecStandardScaler2=DenseVector([-0.4387]), DescVecStandardScaler3=DenseVector([0.4997]), DescVecStandardScaler4=DenseVector([96.0]), DescVecMinMaxScaler=DenseVector([0.0114]), TF=SparseVector(1000, {0: 4.0, 1: 6.0, 2: 2.0, 3: 3.0, 5: 2.0, 8: 4.0, 9: 1.0, 15: 1.0, 21: 2.0, 28: 1.0, 31: 1.0, 35: 3.0, 36: 1.0, 43: 2.0, 45: 2.0, 48: 1.0, 51: 1.0, 57: 6.0, 61: 2.0, 71: 1.0, 78: 1.0, 84: 3.0, 86: 1.0, 94: 1.0, 97: 1.0, 99: 1.0, 100: 1.0, 115: 1.0, 147: 2.0, 152: 1.0, 169: 1.0, 241: 1.0, 283: 1.0, 306: 1.0, 350: 2.0, 490: 1.0, 578: 1.0, 759: 1.0, 832: 2.0}), TFIDF=SparseVector(1000, {0: 0.0026, 1: 0.7515, 2: 0.1374, 3: 0.3184, 5: 0.3823, 8: 1.0754, 9: 0.3344, 15: 0.5899, 21: 1.8551, 28: 1.1263, 31: 1.1113, 35: 3.3134, 36: 1.2545, 43: 2.3741, 45: 2.3753, 48: 1.2254, 51: 1.1879, 57: 11.0264, 61: 2.8957, 71: 2.1945, 78: 1.6947, 84: 6.5898, 86: 1.6136, 94: 2.3569, 97: 1.8218, 99: 2.6292, 100: 1.9206, 115: 2.3592, 147: 5.4841, 152: 2.1116, 169: 2.6328, 241: 2.5745, 283: 3.2325, 306: 3.2668, 350: 6.2367, 490: 3.8893, 578: 3.6182, 759: 3.7771, 832: 8.8964}), label=3.0, NumTags=5, LengthFeature=DenseVector([83.0]), DescGroup=4)"
      ]
     },
     "execution_count": 79,
     "metadata": {},
     "output_type": "execute_result"
    }
   ],
   "source": [
    "df.head()"
   ]
  },
  {
   "cell_type": "code",
   "execution_count": 85,
   "metadata": {},
   "outputs": [
    {
     "name": "stdout",
     "output_type": "stream",
     "text": [
      "+---------+------------------+------------------+-----------------+\n",
      "|DescGroup|   avg(DescLength)|      avg(NumTags)|count(DescLength)|\n",
      "+---------+------------------+------------------+-----------------+\n",
      "|        4| 92.75317245164402| 2.732166913366707|            60127|\n",
      "|        0|224.90495069296375| 3.068663379530917|            30016|\n",
      "|        2| 457.1547183613753|3.2275054864667156|             8202|\n",
      "|        3| 989.9467576791809| 3.279180887372014|             1465|\n",
      "|        1| 2634.815789473684|3.3684210526315788|              190|\n",
      "+---------+------------------+------------------+-----------------+\n",
      "\n"
     ]
    }
   ],
   "source": [
    "df.groupby(\"DescGroup\").agg(avg(col(\"DescLength\")), avg(col(\"NumTags\")), count(col(\"DescLength\"))).orderBy(\"avg(DescLength)\").show()"
   ]
  },
  {
   "cell_type": "markdown",
   "metadata": {},
   "source": [
    "Pipelines"
   ]
  },
  {
   "cell_type": "code",
   "execution_count": null,
   "metadata": {},
   "outputs": [],
   "source": [
    "print type(lr2)"
   ]
  },
  {
   "cell_type": "code",
   "execution_count": null,
   "metadata": {},
   "outputs": [],
   "source": [
    "print type(lrModel2)"
   ]
  },
  {
   "cell_type": "code",
   "execution_count": 59,
   "metadata": {},
   "outputs": [
    {
     "data": {
      "text/plain": [
       "DataFrame[Body: string, Id: bigint, Tags: string, Title: string, oneTag: string]"
      ]
     },
     "execution_count": 59,
     "metadata": {},
     "output_type": "execute_result"
    }
   ],
   "source": [
    "df2 = spark.read.json(stack_overflow_data)\n",
    "df2.persist()"
   ]
  },
  {
   "cell_type": "code",
   "execution_count": 60,
   "metadata": {},
   "outputs": [],
   "source": [
    "regexTokenizer = RegexTokenizer(inputCol=\"Body\", outputCol=\"words\", pattern=\"\\\\W\")\n",
    "cv = CountVectorizer(inputCol=\"words\", outputCol=\"TF\", vocabSize=10000)\n",
    "idf = IDF(inputCol=\"TF\", outputCol=\"features\")\n",
    "indexer = StringIndexer(inputCol=\"oneTag\", outputCol=\"label\")\n",
    "\n",
    "lr =  LogisticRegression(maxIter=10, regParam=0.0, elasticNetParam=0)\n",
    "\n",
    "pipeline = Pipeline(stages=[regexTokenizer, cv, idf, indexer, lr])\n"
   ]
  },
  {
   "cell_type": "code",
   "execution_count": null,
   "metadata": {},
   "outputs": [],
   "source": [
    "plrModel = pipeline.fit(df2)"
   ]
  },
  {
   "cell_type": "code",
   "execution_count": null,
   "metadata": {},
   "outputs": [],
   "source": [
    "df3 = plrModel.transform(df2)"
   ]
  },
  {
   "cell_type": "code",
   "execution_count": null,
   "metadata": {},
   "outputs": [],
   "source": [
    "df3.head()"
   ]
  },
  {
   "cell_type": "code",
   "execution_count": null,
   "metadata": {},
   "outputs": [],
   "source": [
    "df3.filter(df3.label == df3.prediction).count()"
   ]
  }
 ],
 "metadata": {
  "kernelspec": {
   "display_name": "Python 2",
   "language": "python",
   "name": "python2"
  },
  "language_info": {
   "codemirror_mode": {
    "name": "ipython",
    "version": 2
   },
   "file_extension": ".py",
   "mimetype": "text/x-python",
   "name": "python",
   "nbconvert_exporter": "python",
   "pygments_lexer": "ipython2",
   "version": "2.7.14"
  }
 },
 "nbformat": 4,
 "nbformat_minor": 2
}
